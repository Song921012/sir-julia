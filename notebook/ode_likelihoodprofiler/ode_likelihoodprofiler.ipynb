{
  "cells": [
    {
      "cell_type": "markdown",
      "source": [
        "# Ordinary differential equation model with profile likelihood using LikelihoodProfiler.jl\nSimon Frost (@sdwfrost), 2022-12-22\n\n## Introduction\n\nThe classical ODE version of the SIR model is:\n\n- Deterministic\n- Continuous in time\n- Continuous in state\n\nIn this notebook, we try to infer the parameter values from a simulated dataset using [profile likelihood](https://en.wikipedia.org/wiki/Likelihood_function#Profile_likelihood) to capture uncertainty in parameter estimates, using [LikelihoodProfiler.jl](https://github.com/insysbio/LikelihoodProfiler.jl), using [this notebook](https://github.com/insysbio/likelihoodprofiler-cases/blob/master/notebook/SIR%20Model.ipynb) as a guide.\n\n## Libraries"
      ],
      "metadata": {}
    },
    {
      "outputs": [],
      "cell_type": "code",
      "source": [
        "using OrdinaryDiffEq\nusing LikelihoodProfiler\nusing Random\nusing Distributions\nusing Optim\nusing QuasiMonteCarlo # for Latin hypercube sampling\nusing Plots # for plotting output\nusing DataFrames # for formatting results"
      ],
      "metadata": {},
      "execution_count": null
    },
    {
      "cell_type": "markdown",
      "source": [
        "## Transitions\n\nThe following function provides the derivatives of the model, which it changes in-place. A variable is included for the cumulative number of infections, $C$."
      ],
      "metadata": {}
    },
    {
      "outputs": [],
      "cell_type": "code",
      "source": [
        "function sir_ode!(du,u,p,t)\n    (S,I,R,C) = u\n    (β,c,γ) = p\n    N = S+I+R\n    infection = β*c*I/N*S\n    recovery = γ*I\n    @inbounds begin\n        du[1] = -infection\n        du[2] = infection - recovery\n        du[3] = recovery\n        du[4] = infection\n    end\n    nothing\nend;"
      ],
      "metadata": {},
      "execution_count": null
    },
    {
      "cell_type": "markdown",
      "source": [
        "## Time domain\n\nWe set the timespan for simulations, `tspan`, initial conditions, `u0`, and parameter values, `p` (which are unpacked above as `[β, c, γ]`)."
      ],
      "metadata": {}
    },
    {
      "outputs": [],
      "cell_type": "code",
      "source": [
        "δt = 1.0\ntmax = 40.0\ntspan = (0.0, tmax);"
      ],
      "metadata": {},
      "execution_count": null
    },
    {
      "cell_type": "markdown",
      "source": [
        "## Initial conditions"
      ],
      "metadata": {}
    },
    {
      "outputs": [],
      "cell_type": "code",
      "source": [
        "u0 = [990.0, 10.0, 0.0, 0.0]; # S, I, R, C"
      ],
      "metadata": {},
      "execution_count": null
    },
    {
      "cell_type": "markdown",
      "source": [
        "## Parameter values"
      ],
      "metadata": {}
    },
    {
      "outputs": [],
      "cell_type": "code",
      "source": [
        "p = [0.05, 10.0, 0.25]; # β, c, γ"
      ],
      "metadata": {},
      "execution_count": null
    },
    {
      "cell_type": "markdown",
      "source": [
        "## Running the model"
      ],
      "metadata": {}
    },
    {
      "outputs": [],
      "cell_type": "code",
      "source": [
        "prob_ode = ODEProblem(sir_ode!, u0, tspan, p)\nsol_ode = solve(prob_ode, Tsit5(), saveat=δt);"
      ],
      "metadata": {},
      "execution_count": null
    },
    {
      "outputs": [],
      "cell_type": "code",
      "source": [
        "sol_plot = plot(sol_ode,\n                plotdensity=1000,\n                xlabel = \"Time\",\n                ylabel = \"Number\",\n                labels = [\"S\" \"I\" \"R\" \"C\"])"
      ],
      "metadata": {},
      "execution_count": null
    },
    {
      "cell_type": "markdown",
      "source": [
        "## Generating data\n\nThe cumulative counts are extracted, and the new cases per day are calculated from the cumulative counts."
      ],
      "metadata": {}
    },
    {
      "outputs": [],
      "cell_type": "code",
      "source": [
        "out = Array(sol_ode)\nC = out[4,:]\nX = C[2:end] .- C[1:(end-1)];"
      ],
      "metadata": {},
      "execution_count": null
    },
    {
      "cell_type": "markdown",
      "source": [
        "Although the ODE system is deterministic, we can add measurement error to the counts of new cases. Here, a Poisson distribution is used, although a negative binomial could also be used (which would introduce an additional parameter for the variance)."
      ],
      "metadata": {}
    },
    {
      "outputs": [],
      "cell_type": "code",
      "source": [
        "Random.seed!(1234)\ndata = rand.(Poisson.(X));"
      ],
      "metadata": {},
      "execution_count": null
    },
    {
      "cell_type": "markdown",
      "source": [
        "## Optimization\n\nThe optimizers implemented in Julia typically minimize a function. `LikelihoodProfiler.jl` expects a loss function of the form [-2ln(L(θ))](https://insysbio.github.io/LikelihoodProfiler.jl/latest/api/#LikelihoodProfiler.get_interval-Tuple{Vector{Float64},%20Int64,%20Function,%20Symbol}). This is sometimes called [deviance](https://en.wikipedia.org/wiki/Deviance_(statistics)) in the literature, although we do not use the term here, as strictly speaking, deviance refers to a goodness-of-fit measure. Here, we consider fitting two parameter values, the initial proportion of infected individuals, `i₀`, and the infection probability, `β`."
      ],
      "metadata": {}
    },
    {
      "outputs": [],
      "cell_type": "code",
      "source": [
        "function minustwologlik(θ)\n    (i₀, β) = θ\n    I = i₀*1000.0\n    prob = remake(prob_ode, u0=[1000.0-I, I, 0.0, 0.0], p=[β, 10.0, 0.25])\n    sol = solve(prob, Tsit5(), saveat=δt)\n    out = Array(sol)\n    C = out[4,:]\n    X = C[2:end] .- C[1:(end-1)]\n    nonpos = sum(X .<= 0)\n    if nonpos > 0\n        return Inf\n    end\n    -2.0*sum(logpdf.(Poisson.(X), data))\nend;"
      ],
      "metadata": {},
      "execution_count": null
    },
    {
      "cell_type": "markdown",
      "source": [
        "We specify the lower and upper bounds of the parameter values, `lb` and `ub` respectively, and the initial parameter values, `θ₀`."
      ],
      "metadata": {}
    },
    {
      "outputs": [],
      "cell_type": "code",
      "source": [
        "lb = [0.0, 0.0]\nub = [1.0, 1.0]\nθ = [0.01, 0.5]\nθ₀ = [0.01, 0.1];"
      ],
      "metadata": {},
      "execution_count": null
    },
    {
      "cell_type": "markdown",
      "source": [
        "This calculates the initial -2ln(L(θ)) to test our function."
      ],
      "metadata": {}
    },
    {
      "outputs": [],
      "cell_type": "code",
      "source": [
        "minustwologlik(θ₀)"
      ],
      "metadata": {},
      "execution_count": null
    },
    {
      "cell_type": "markdown",
      "source": [
        "We use `Optim.jl` to obtain the maximum likelihood estimates, `θ₀`; we use two rounds of optimization, first a fast approach using `NelderMead`, then a slower approach using `LBFGS`."
      ],
      "metadata": {}
    },
    {
      "outputs": [],
      "cell_type": "code",
      "source": [
        "res = Optim.optimize(minustwologlik, lb, ub, θ₀, Optim.Fminbox(NelderMead()))\nres = Optim.optimize(minustwologlik, lb, ub, res.minimizer, Optim.Fminbox(LBFGS()))\nθ̂ = res.minimizer"
      ],
      "metadata": {},
      "execution_count": null
    },
    {
      "cell_type": "markdown",
      "source": [
        "We next calculate the critical value of the loss function based on [Wilk's theorem](https://en.wikipedia.org/wiki/Wilks%27_theorem)."
      ],
      "metadata": {}
    },
    {
      "outputs": [],
      "cell_type": "code",
      "source": [
        "α = res.minimum + cquantile(Chisq(1), 0.05);"
      ],
      "metadata": {},
      "execution_count": null
    },
    {
      "cell_type": "markdown",
      "source": [
        "We obtain the profile likelihood intervals for each parameter in turn; `LikelihoodProfiler.jl` currently only computes univariate profile likelihood intervals. For this example, each parameter is bounded between 0 and 1. Hence, we pass upper and lower bounds, ensuring that `scan_bounds` is within these bounds. We also transform the parameter values using the logit transform, which may help the optimization process."
      ],
      "metadata": {}
    },
    {
      "outputs": [],
      "cell_type": "code",
      "source": [
        "prof = Vector{ParamInterval}(undef,length(θ̂))\ntheta_bounds = [(lb[1],ub[1]),(lb[2],ub[2])]\neps = 1e-9\nscan_bounds = [(0.0+eps,1.0-eps),(0.0+eps,1.0-eps)]\nfor i in eachindex(θ̂)\n    prof[i] = get_interval(\n        θ̂,\n        i,\n        minustwologlik,\n        :CICO_ONE_PASS,\n        loss_crit = α,\n        theta_bounds = theta_bounds,\n        scan_bounds = scan_bounds[i],\n        scale = fill(:logit,length(θ̂))\n    ) \nend;"
      ],
      "metadata": {},
      "execution_count": null
    },
    {
      "cell_type": "markdown",
      "source": [
        "This table shows the results, including the convergence results for the likelihood intervals, the fitted values and the initial values."
      ],
      "metadata": {}
    },
    {
      "outputs": [],
      "cell_type": "code",
      "source": [
        "ENV[\"COLUMNS\"]=80\ndf_res = DataFrame(\n    Parameters = [:I₀, :β], \n    StatusLower = [k.result[1].status for k in prof],\n    StatusUpper = [k.result[2].status for k in prof],\n    CILower = [k.result[1].value for k in prof],\n    CIUpper = [k.result[2].value for k in prof],\n    FittedValues = θ̂,\n    NominalStartValues = θ₀\n)\ndf_res"
      ],
      "metadata": {},
      "execution_count": null
    },
    {
      "cell_type": "markdown",
      "source": [
        "`LikelihoodProfiler.jl` provides a `@recipe` for `Plots.jl` to visualize confidence interval estimation and plot a parameter's profile based on `LikelihoodProfiler.ParamInterval`. To obtain smoother plots, we compute more profile points using `update_profile_points!`."
      ],
      "metadata": {}
    },
    {
      "outputs": [],
      "cell_type": "code",
      "source": [
        "update_profile_points!.(prof);"
      ],
      "metadata": {},
      "execution_count": null
    },
    {
      "outputs": [],
      "cell_type": "code",
      "source": [
        "l = @layout [a b]\np1 = plot(prof[1], xlabel=\"I₀\", ylabel = \"L(I₀)\", legend=:top)\np2 = plot(prof[2], xlabel=\"β\", ylabel = \"L(β)\", legend=:top)\nplot(p1, p2, layout=l)"
      ],
      "metadata": {},
      "execution_count": null
    },
    {
      "cell_type": "markdown",
      "source": [
        "## Comparison with a 'full' likelihood approach\n\nA brute force approach to computing intervals based on the 'full' likelihood (in quotes, as we have fixed two parameters, c and γ) is to compute the loss function, -2ln(L(θ) across the parameter space, and select input parameters for which the loss function is below the critical value for the loss function, α. Here, we use Latin Hypercube Sampling to draw from values of i₀ and β, following the pattern in the [global sensitivity analysis example](https://github.com/epirecipes/sir-julia/blob/master/markdown/ode_global_sensitivity/ode_global_sensitivity.md). Rather than draw samples from the full parameter space, we use a hypercube around a region slightly larger than that inferred from the profile likelihood intervals."
      ],
      "metadata": {}
    },
    {
      "outputs": [],
      "cell_type": "code",
      "source": [
        "n_samples = 10000\nlb2 = [k.result[1].value for k in prof] * 0.5\nub2 = [k.result[2].value for k in prof] * 2\nlhs = QuasiMonteCarlo.sample(n_samples, lb2, ub2, LatinHypercubeSample());"
      ],
      "metadata": {},
      "execution_count": null
    },
    {
      "cell_type": "markdown",
      "source": [
        "We now compute -2ln(L(θ)) for the parameter sample."
      ],
      "metadata": {}
    },
    {
      "outputs": [],
      "cell_type": "code",
      "source": [
        "lhs_result = [minustwologlik(lhs[:,i]) for i in 1:n_samples];"
      ],
      "metadata": {},
      "execution_count": null
    },
    {
      "cell_type": "markdown",
      "source": [
        "We now identify the model runs where -2ln(L(θ)) < α."
      ],
      "metadata": {}
    },
    {
      "outputs": [],
      "cell_type": "code",
      "source": [
        "idx = (1:n_samples)[lhs_result .< α];"
      ],
      "metadata": {},
      "execution_count": null
    },
    {
      "cell_type": "markdown",
      "source": [
        "We select the parameter values for which -2ln(L(θ)) < α."
      ],
      "metadata": {}
    },
    {
      "outputs": [],
      "cell_type": "code",
      "source": [
        "lhs_params = lhs[:,idx];"
      ],
      "metadata": {},
      "execution_count": null
    },
    {
      "cell_type": "markdown",
      "source": [
        "We summarize the parameter set by the lower and upper bounds."
      ],
      "metadata": {}
    },
    {
      "outputs": [],
      "cell_type": "code",
      "source": [
        "full_lowerci = minimum(lhs_params,dims=2)\nfull_upperci = maximum(lhs_params,dims=2);"
      ],
      "metadata": {},
      "execution_count": null
    },
    {
      "cell_type": "markdown",
      "source": [
        "The following table shows that the profile likelihood intervals for this example are comparable to the (approximate) full likelihood intervals."
      ],
      "metadata": {}
    },
    {
      "outputs": [],
      "cell_type": "code",
      "source": [
        "ENV[\"COLUMNS\"]=80\nfull_df_res = DataFrame(\n    Parameters = [:I₀, :β],\n    FullCILower = vec(full_lowerci),\n    FullCIUpper = vec(full_upperci),\n    ProfCILower = [k.result[1].value for k in prof],\n    ProfCIUpper = [k.result[2].value for k in prof],\n    FittedValues = θ̂,\n    NominalStartValues = θ₀\n)\nfull_df_res"
      ],
      "metadata": {},
      "execution_count": null
    }
  ],
  "nbformat_minor": 2,
  "metadata": {
    "language_info": {
      "file_extension": ".jl",
      "mimetype": "application/julia",
      "name": "julia",
      "version": "1.7.3"
    },
    "kernelspec": {
      "name": "julia-1.7",
      "display_name": "Julia 1.7.3",
      "language": "julia"
    }
  },
  "nbformat": 4
}
