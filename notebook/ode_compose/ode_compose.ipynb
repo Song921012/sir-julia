{
  "cells": [
    {
      "cell_type": "markdown",
      "source": [
        "# Model composition of an ODE system using ModelingToolkit.jl\nSimon Frost (@sdwfrost), 2023-02-15\n\nWhen building complex models, it is useful to be able to build them out of smaller, reuable components. This notebook is based on the example provided in the [SciML documentation on composition](https://docs.sciml.ai/ModelingToolkit/stable/basics/Composition/), which uses `compose` from ModelingToolkit.jl to wire together different models.\n\n## Libraries"
      ],
      "metadata": {}
    },
    {
      "outputs": [],
      "cell_type": "code",
      "source": [
        "using ModelingToolkit\nusing OrdinaryDiffEq\nusing Plots"
      ],
      "metadata": {},
      "execution_count": null
    },
    {
      "cell_type": "markdown",
      "source": [
        "## Transitions\n\n### Time\n\nWe first define the variable for time, `t` and derivatives with respect to time, `D`."
      ],
      "metadata": {}
    },
    {
      "outputs": [],
      "cell_type": "code",
      "source": [
        "@parameters t\nD = Differential(t)"
      ],
      "metadata": {},
      "execution_count": null
    },
    {
      "cell_type": "markdown",
      "source": [
        "### The system for susceptibles\n\nWe start by writing a model for the change in susceptibles, `S`, which in the simplest SIR model, is a function of the force of infection, `λ`. We have to define `S` and `λ` using the `@variables` macro in order to be able to use them."
      ],
      "metadata": {}
    },
    {
      "outputs": [],
      "cell_type": "code",
      "source": [
        "@variables S(t) λ(t)\n@named seqn = ODESystem([D(S) ~ -λ*S])"
      ],
      "metadata": {},
      "execution_count": null
    },
    {
      "cell_type": "markdown",
      "source": [
        "### The system for infected\n\nNext is the model for infected individuals."
      ],
      "metadata": {}
    },
    {
      "outputs": [],
      "cell_type": "code",
      "source": [
        "@variables I(t)\n@parameters γ\n@named ieqn = ODESystem([D(I) ~ λ*S - γ*I])"
      ],
      "metadata": {},
      "execution_count": null
    },
    {
      "cell_type": "markdown",
      "source": [
        "### The system for the force of infection\n\nFinally, we have a model for the force of infection, which in this simple case, is a mass-action process."
      ],
      "metadata": {}
    },
    {
      "outputs": [],
      "cell_type": "code",
      "source": [
        "@parameters β\n@named λeqn = ODESystem([λ ~ β*I])"
      ],
      "metadata": {},
      "execution_count": null
    },
    {
      "cell_type": "markdown",
      "source": [
        "### Composing the systems\n\nTo compose a system from these components, we need to specify that, for example, the `S` in the model for infecteds is the same as the `S` in the model for susceptibles, by using an equality (`~`) relationship. The parameters are forwarded through a relationship in their default values."
      ],
      "metadata": {}
    },
    {
      "outputs": [],
      "cell_type": "code",
      "source": [
        "sys = compose(ODESystem([\n                            ieqn.S ~ seqn.S,\n                            seqn.λ ~ λeqn.λ,\n                            ieqn.λ ~ λeqn.λ,\n                            λeqn.I ~ ieqn.I,\n                        ],\n                        t,\n                        [S, I, λ],\n                        [β, γ],\n                        defaults = [λeqn.β => β,\n                                    ieqn.γ => γ],\n                        name = :sir),\n              seqn,\n              ieqn,\n              λeqn)"
      ],
      "metadata": {},
      "execution_count": null
    },
    {
      "cell_type": "markdown",
      "source": [
        "The above model is overspecified, so we simplify it using `structural_simplify`."
      ],
      "metadata": {}
    },
    {
      "outputs": [],
      "cell_type": "code",
      "source": [
        "simpsys = structural_simplify(sys);"
      ],
      "metadata": {},
      "execution_count": null
    },
    {
      "cell_type": "markdown",
      "source": [
        "Printing out the equations shows that we have recovered the expected equations for the SIR model."
      ],
      "metadata": {}
    },
    {
      "outputs": [],
      "cell_type": "code",
      "source": [
        "equations(simpsys)"
      ],
      "metadata": {},
      "execution_count": null
    },
    {
      "cell_type": "markdown",
      "source": [
        "## Time, initial conditions, and parameters\n\nThe model can be solved by specifying the values at the highest level."
      ],
      "metadata": {}
    },
    {
      "outputs": [],
      "cell_type": "code",
      "source": [
        "tspan = (0.0, 40.0)\nu₀ = [seqn.S => 0.99, ieqn.I => 0.01]\np = [β => 0.5, γ => 0.25];"
      ],
      "metadata": {},
      "execution_count": null
    },
    {
      "cell_type": "markdown",
      "source": [
        "## Running the model"
      ],
      "metadata": {}
    },
    {
      "outputs": [],
      "cell_type": "code",
      "source": [
        "prob = ODEProblem(simpsys, u₀, tspan, p, jac = true)\nsol = solve(prob, Tsit5());"
      ],
      "metadata": {},
      "execution_count": null
    },
    {
      "cell_type": "markdown",
      "source": [
        "## Plotting"
      ],
      "metadata": {}
    },
    {
      "outputs": [],
      "cell_type": "code",
      "source": [
        "plot(sol)"
      ],
      "metadata": {},
      "execution_count": null
    }
  ],
  "nbformat_minor": 2,
  "metadata": {
    "language_info": {
      "file_extension": ".jl",
      "mimetype": "application/julia",
      "name": "julia",
      "version": "1.7.3"
    },
    "kernelspec": {
      "name": "julia-1.7",
      "display_name": "Julia 1.7.3",
      "language": "julia"
    }
  },
  "nbformat": 4
}
