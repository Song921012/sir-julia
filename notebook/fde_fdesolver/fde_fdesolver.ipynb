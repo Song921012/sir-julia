{
  "cells": [
    {
      "cell_type": "markdown",
      "source": [
        "# Fractional differential equation model using FdeSolver.jl\nSimon Frost (@sdwfrost), 2023-01-12\n\n## Introduction\n\nThe classical ODE version of the SIR model is:\n\n- Deterministic\n- Continuous in time\n- Continuous in state\n\nODEs can be generalized using [fractional calculus](https://en.wikipedia.org/wiki/Fractional_calculus) to become fractional differential equations (FDEs), which consider powers of the differential operator. Unlike ODEs, the solution of the FDE at a point `t` depends on the values of the solution on the whole intervall `[0,t]`, and in this way the system has 'memory'. The exponent of the fractional derivative can be used as an additional parameter when fitting the model to data. This tutorial shows how to solve an FDE using [FdeSolver.jl](hhttps://github.com/JuliaTurkuDataScience/FdeSolver.jl).\n\n## Libraries"
      ],
      "metadata": {}
    },
    {
      "outputs": [],
      "cell_type": "code",
      "source": [
        "using FdeSolver\nusing Plots\nusing BenchmarkTools"
      ],
      "metadata": {},
      "execution_count": null
    },
    {
      "cell_type": "markdown",
      "source": [
        "## Transitions\n\nUnlike the models in the SciML ecosystem, `FdeSolver.jl` expects the arguments of the model function to be (time, state, parameters), in addition to being out-of-place. The coefficients are raised to a power, α, which will also be the power to which the derivatives are raised. This ensures that the units of the left and right hand sides of the ODE are the same."
      ],
      "metadata": {}
    },
    {
      "outputs": [],
      "cell_type": "code",
      "source": [
        "function sir_ode(t, u, p)\n    (S, I, R) = u\n    (β, γ, α) = p\n    N = S+I+R\n    dS = -(β^α)*I/N*S\n    dI = (β^α)*I/N*S - (γ^α)*I\n    dR = (γ^α)*I\n    [dS, dI, dR]\nend;"
      ],
      "metadata": {},
      "execution_count": null
    },
    {
      "cell_type": "markdown",
      "source": [
        "## Time domain\n\nWe set the timespan for simulations, `tspan`, initial conditions, `u0`, and parameter values, `p` (which are unpacked above as `[β, γ, α]`). We set the power of the fractional derivatives, α, and pass it as a parameter to the model in order to make the units consistent. Unlike the SciML models, `tspan` is a `Vector` rather than a `Tuple`."
      ],
      "metadata": {}
    },
    {
      "outputs": [],
      "cell_type": "code",
      "source": [
        "tspan = [0.0, 40.0];\nu0 = [990.0, 10.0, 0.0];\nα = 0.9\np = [0.5, 0.25, α];"
      ],
      "metadata": {},
      "execution_count": null
    },
    {
      "cell_type": "markdown",
      "source": [
        "## Running the model\n\nRunning the model requires the model function, the time span, the initial state, a vector of exponents for the derivatives (in this example, all set to α), the parameter vector and the timestep `h`. This function returns a vector for the times at which the model is solved and a matrix of the state vector."
      ],
      "metadata": {}
    },
    {
      "outputs": [],
      "cell_type": "code",
      "source": [
        "t, sol_fode = FDEsolver(sir_ode, tspan, u0, [α, α, α], p, h = 0.1);"
      ],
      "metadata": {},
      "execution_count": null
    },
    {
      "cell_type": "markdown",
      "source": [
        "## Plotting"
      ],
      "metadata": {}
    },
    {
      "outputs": [],
      "cell_type": "code",
      "source": [
        "plot(t, sol_fode)"
      ],
      "metadata": {},
      "execution_count": null
    },
    {
      "cell_type": "markdown",
      "source": [
        "## Changing the fractional derivatives\n\nThe effect of changing the power α can be seen below."
      ],
      "metadata": {}
    },
    {
      "outputs": [],
      "cell_type": "code",
      "source": [
        "α₂ = 0.9\np₂ = [0.5, 0.25, α₂];\nt₂, sol_fode₂ = FDEsolver(sir_ode, tspan, u0, [α₂, α₂, α₂], p₂, h = 0.1);\nplot(sol_fode₂)"
      ],
      "metadata": {},
      "execution_count": null
    },
    {
      "cell_type": "markdown",
      "source": [
        "## References\n\n- Christopher N. Angstmann, Austen M. Erickson, Bruce I. Henry, Anna V. McGann, John M. Murray, and James A. Nichols. (2021) A general famework for fractional order compartment models. SIAM Review 63(2):375–392. [https://doi.org/10.1137/21M1398549](https://doi.org/10.1137/21M1398549)\n- Yuli Chen, Fawang Liu, Qiang Yu, and Tianzeng Li. (2021) Review of fractional epidemic models. Applied Mathematical Modeling, 97:281-307. [https://doi.org/10.1016/j.apm.2021.03.044](https://doi.org/10.1016/j.apm.2021.03.044)\n- N. Zeraick Monteiros and Rodrigues Mazorche. (2021) Fractional derivatives applied to epidemiology. Trends in Computational and Applied Mathematics, 22(2):157-177. [https://doi.org/10.5540/tcam.2021.022.02.00157](https://doi.org/10.5540/tcam.2021.022.02.00157)\n\n## Benchmarking"
      ],
      "metadata": {}
    },
    {
      "outputs": [],
      "cell_type": "code",
      "source": [
        "@benchmark FDEsolver(sir_ode, tspan, u0, [α, α, α], p, h = 0.1)"
      ],
      "metadata": {},
      "execution_count": null
    }
  ],
  "nbformat_minor": 2,
  "metadata": {
    "language_info": {
      "file_extension": ".jl",
      "mimetype": "application/julia",
      "name": "julia",
      "version": "1.7.3"
    },
    "kernelspec": {
      "name": "julia-1.7",
      "display_name": "Julia 1.7.3",
      "language": "julia"
    }
  },
  "nbformat": 4
}
