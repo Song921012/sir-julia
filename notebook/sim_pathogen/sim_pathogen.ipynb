{
  "cells": [
    {
      "cell_type": "markdown",
      "source": [
        "# Transmission network individual-level model (TN-ILM) using Pathogen.jl\nSimon Frost (@sdwfrost), 2023-02-01\n\n## Introduction\n\n[Pathogen.jl](https://github.com/jangevaare/Pathogen.jl), described in [this paper](https://doi.org/10.18637/jss.v104.i04), is a package to simulate transmission network individual-level models, in which individuals can have their own risk factors that affect their contact with others, their susceptibility, their infectivity on infection, their recovery rates, etc.. It includes methods for stochastic simulation and Bayesian inference of SEIR, SEI, SIR, and SI individual level models. This tutorial is based on that included in the Pathogen.jl package, available [here](https://github.com/jangevaare/Pathogen.jl/blob/master/examples/SIR%20Simulation/SIR%20TN-ILM%20Simulation%20and%20Inference.ipynb), but simplified to match the parameter values used in this repository as closely as possible, in order to generate comparable results.\n\n## Libraries"
      ],
      "metadata": {}
    },
    {
      "outputs": [],
      "cell_type": "code",
      "source": [
        "using Random\nusing Distributions\nusing Pathogen\nusing Plots\nusing Plots.PlotMeasures\nusing BenchmarkTools;"
      ],
      "metadata": {},
      "execution_count": null
    },
    {
      "cell_type": "markdown",
      "source": [
        "We set the random number seed for reproducibility."
      ],
      "metadata": {}
    },
    {
      "outputs": [],
      "cell_type": "code",
      "source": [
        "Random.seed!(1234);"
      ],
      "metadata": {},
      "execution_count": null
    },
    {
      "cell_type": "markdown",
      "source": [
        "## Setting up the population structure\n\nWe first set the population size, which is assumed to be fixed."
      ],
      "metadata": {}
    },
    {
      "outputs": [],
      "cell_type": "code",
      "source": [
        "N = 1000;"
      ],
      "metadata": {},
      "execution_count": null
    },
    {
      "cell_type": "markdown",
      "source": [
        "Each individual in the population is assumed to be embedded in a landscape, that may reflect actual space, or some kind of risk space. As we assume that all individuals are identical in terms of risk, this information is just used to store `x` and `y` coordinates for plotting purposes."
      ],
      "metadata": {}
    },
    {
      "outputs": [],
      "cell_type": "code",
      "source": [
        "locations = DataFrame(x = rand(Uniform(0, 10), N),\n                      y = rand(Uniform(0, 10), N));"
      ],
      "metadata": {},
      "execution_count": null
    },
    {
      "cell_type": "markdown",
      "source": [
        "Pathogen.jl also assumes that a distance measure between individuals that can be used to parameterize the probability of infection. As we assume that all individuals are identical, this is set to be 1 between all pairs of individuals."
      ],
      "metadata": {}
    },
    {
      "outputs": [],
      "cell_type": "code",
      "source": [
        "dists = [1.0 for i = 1:N, j = 1:N]\n# Set diagonal to zero\n[dists[i,i] = 0.0 for i in 1:N]\npop = Population(locations, dists);"
      ],
      "metadata": {},
      "execution_count": null
    },
    {
      "cell_type": "markdown",
      "source": [
        "## Setting up the population risks\n\nWe next define a series of utility functions that are used to define the risks for each individual."
      ],
      "metadata": {}
    },
    {
      "outputs": [],
      "cell_type": "code",
      "source": [
        "function _constant(params::Vector{Float64}, pop::Population, i::Int64)\n    return params[1]\nend\n\nfunction _one(params::Vector{Float64}, pop::Population, i::Int64)\n    return 1.0\nend\n\nfunction _one(params::Vector{Float64}, pop::Population, i::Int64, k:: Int64)\n    return 1.0\nend\n\nfunction _zero(params::Vector{Float64}, pop::Population, i::Int64)\n    return 0.0\nend;"
      ],
      "metadata": {},
      "execution_count": null
    },
    {
      "cell_type": "markdown",
      "source": [
        "`SIR` is a type defined within the Pathogen.jl package. Defining `RiskFunctions` for this type involves passing functions for 'sparks' (basically the rate of infection from outside the population), susceptibility, infectivity, transmissibility, and removal/recovery."
      ],
      "metadata": {}
    },
    {
      "outputs": [],
      "cell_type": "code",
      "source": [
        "rf = RiskFunctions{SIR}(_zero, # sparks function\n                        _one, # susceptibility function\n                        _one, # infectivity function: defines a distance\n                        _constant, # transmissability function\n                        _constant); # removal function"
      ],
      "metadata": {},
      "execution_count": null
    },
    {
      "cell_type": "markdown",
      "source": [
        "A separate structure is used to define the parameters for the above functions. Empty arrays can be passed when the output is fixed. The transmissibility parameter is equivalent to `βc/N` in other examples in the repository."
      ],
      "metadata": {}
    },
    {
      "outputs": [],
      "cell_type": "code",
      "source": [
        "rparams = RiskParameters{SIR}(Float64[], # sparks function parameter(s)\n                              Float64[], # susceptibility function parameter(s)\n                              Float64[], # infectivity function parameter(s)\n                              [0.5/N], # transmissibility function parameter(s)\n                              [0.25]); # removal function parameter(s)"
      ],
      "metadata": {},
      "execution_count": null
    },
    {
      "cell_type": "markdown",
      "source": [
        "## Initial conditions\n\nPathogen.jl defines states, such as `State_S`, `State_E`, `State_I`, and `State_R`, which are used to define the initial states of the system."
      ],
      "metadata": {}
    },
    {
      "outputs": [],
      "cell_type": "code",
      "source": [
        "I₀ = 10\nstarting_states = [fill(State_I, I₀); fill(State_S, N-I₀)];"
      ],
      "metadata": {},
      "execution_count": null
    },
    {
      "cell_type": "markdown",
      "source": [
        "## Running the model\n\nInitializing the simulation requires the population, the initial conditions, the risk functions, and the risk parameters."
      ],
      "metadata": {}
    },
    {
      "outputs": [],
      "cell_type": "code",
      "source": [
        "sim = Simulation(pop, starting_states, rf, rparams);"
      ],
      "metadata": {},
      "execution_count": null
    },
    {
      "cell_type": "markdown",
      "source": [
        "The following call to `simulate!` changes the simulation in-place until a maximum time, `tmax`."
      ],
      "metadata": {}
    },
    {
      "outputs": [],
      "cell_type": "code",
      "source": [
        "simulate!(sim, tmax=40.0);"
      ],
      "metadata": {},
      "execution_count": null
    },
    {
      "cell_type": "markdown",
      "source": [
        "## Plotting\n\nPathogen.jl has a convenience function for plotting the states of the models."
      ],
      "metadata": {}
    },
    {
      "outputs": [],
      "cell_type": "code",
      "source": [
        "plot(sim.events, 0.0, 40.0)"
      ],
      "metadata": {},
      "execution_count": null
    },
    {
      "cell_type": "markdown",
      "source": [
        "## Benchmarking"
      ],
      "metadata": {}
    },
    {
      "outputs": [],
      "cell_type": "code",
      "source": [
        "@benchmark begin\nsim = Simulation(pop, starting_states, rf, rparams)\nsimulate!(sim, tmax=40.0)\nend"
      ],
      "metadata": {},
      "execution_count": null
    }
  ],
  "nbformat_minor": 2,
  "metadata": {
    "language_info": {
      "file_extension": ".jl",
      "mimetype": "application/julia",
      "name": "julia",
      "version": "1.7.3"
    },
    "kernelspec": {
      "name": "julia-1.7",
      "display_name": "Julia 1.7.3",
      "language": "julia"
    }
  },
  "nbformat": 4
}
