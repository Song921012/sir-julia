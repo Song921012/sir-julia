{
  "cells": [
    {
      "cell_type": "markdown",
      "source": [
        "# Ordinary differential equation model with full likelihood intervals using ProfileLikelihood.jl\nSimon Frost (@sdwfrost), 2022-12-22\n\n## Introduction\n\nThe classical ODE version of the SIR model is:\n\n- Deterministic\n- Continuous in time\n- Continuous in state\n\nIn this notebook, we try to infer the parameter values from a simulated dataset using a full likelihood approach to capture uncertainty, using tools from the [ProfileLikelihood.jl](https://github.com/ph-kev/ProfileLikelihood.jl) package.\n\n## Libraries"
      ],
      "metadata": {}
    },
    {
      "outputs": [],
      "cell_type": "code",
      "source": [
        "using OrdinaryDiffEq\nusing ProfileLikelihood\nusing StatsFuns\nusing Random\nusing Distributions\nusing Optimization\nusing OptimizationOptimJL\nusing QuasiMonteCarlo\nusing CairoMakie\nusing LaTeXStrings\nusing DataFrames"
      ],
      "metadata": {},
      "execution_count": null
    },
    {
      "cell_type": "markdown",
      "source": [
        "## Transitions\n\nThe following function provides the derivatives of the model, which it changes in-place. A variable is included for the cumulative number of infections, $C$."
      ],
      "metadata": {}
    },
    {
      "outputs": [],
      "cell_type": "code",
      "source": [
        "function sir_ode!(du, u, p, t)\n    (S, I, R, C) = u\n    (β, c, γ) = p\n    N = S+I+R\n    infection = β*c*I/N*S\n    recovery = γ*I\n    @inbounds begin\n        du[1] = -infection\n        du[2] = infection - recovery\n        du[3] = recovery\n        du[4] = infection\n    end\n    nothing\nend;"
      ],
      "metadata": {},
      "execution_count": null
    },
    {
      "cell_type": "markdown",
      "source": [
        "## Time domain\n\nWe set the timespan for simulations, `tspan`, initial conditions, `u0`, and parameter values, `p` (which are unpacked above as `[β, c, γ]`)."
      ],
      "metadata": {}
    },
    {
      "outputs": [],
      "cell_type": "code",
      "source": [
        "δt = 1.0\ntmax = 40.0\ntspan = (0.0,tmax);"
      ],
      "metadata": {},
      "execution_count": null
    },
    {
      "cell_type": "markdown",
      "source": [
        "## Initial conditions"
      ],
      "metadata": {}
    },
    {
      "outputs": [],
      "cell_type": "code",
      "source": [
        "u₀ = [990.0, 10.0, 0.0, 0.0]; # S, I, R, C"
      ],
      "metadata": {},
      "execution_count": null
    },
    {
      "cell_type": "markdown",
      "source": [
        "## Parameter values"
      ],
      "metadata": {}
    },
    {
      "outputs": [],
      "cell_type": "code",
      "source": [
        "p = [0.05, 10.0, 0.25]; # β, c, γ"
      ],
      "metadata": {},
      "execution_count": null
    },
    {
      "cell_type": "markdown",
      "source": [
        "## Running the model"
      ],
      "metadata": {}
    },
    {
      "outputs": [],
      "cell_type": "code",
      "source": [
        "prob_ode = ODEProblem(sir_ode!, u₀, tspan, p)\nsol_ode = solve(prob_ode, Tsit5(), saveat=δt);"
      ],
      "metadata": {},
      "execution_count": null
    },
    {
      "cell_type": "markdown",
      "source": [
        "We convert the output to an `Array` for further processing."
      ],
      "metadata": {}
    },
    {
      "outputs": [],
      "cell_type": "code",
      "source": [
        "out = Array(sol_ode);"
      ],
      "metadata": {},
      "execution_count": null
    },
    {
      "cell_type": "markdown",
      "source": [
        "## Plotting the solution\n\nThe following code demonstrates how to plot the time series using [Makie.jl](https://github.com/MakieOrg/Makie.jl)."
      ],
      "metadata": {}
    },
    {
      "outputs": [],
      "cell_type": "code",
      "source": [
        "colors = [:blue, :red, :green, :purple]\nlegends = [\"S\", \"I\", \"R\", \"C\"]\nfig = Figure()\nax = Axis(fig[1, 1])\nfor i = 1:4\n    lines!(ax, sol_ode.t, out[i,:], label = legends[i], color = colors[i])\nend\naxislegend(ax)\nax.xlabel = \"Time\"\nax.ylabel = \"Number\"\nfig"
      ],
      "metadata": {},
      "execution_count": null
    },
    {
      "cell_type": "markdown",
      "source": [
        "## Generating data\n\nThe cumulative counts are extracted."
      ],
      "metadata": {}
    },
    {
      "outputs": [],
      "cell_type": "code",
      "source": [
        "C = out[4,:];"
      ],
      "metadata": {},
      "execution_count": null
    },
    {
      "cell_type": "markdown",
      "source": [
        "The new cases per day are calculated from the cumulative counts."
      ],
      "metadata": {}
    },
    {
      "outputs": [],
      "cell_type": "code",
      "source": [
        "X = C[2:end] .- C[1:(end-1)];"
      ],
      "metadata": {},
      "execution_count": null
    },
    {
      "cell_type": "markdown",
      "source": [
        "Although the ODE system is deterministic, we can add measurement error to the counts of new cases. Here, a Poisson distribution is used, although a negative binomial could also be used (which would introduce an additional parameter for the variance)."
      ],
      "metadata": {}
    },
    {
      "outputs": [],
      "cell_type": "code",
      "source": [
        "Random.seed!(1234);"
      ],
      "metadata": {},
      "execution_count": null
    },
    {
      "outputs": [],
      "cell_type": "code",
      "source": [
        "data = rand.(Poisson.(X));"
      ],
      "metadata": {},
      "execution_count": null
    },
    {
      "cell_type": "markdown",
      "source": [
        "## Optimization\n\n`ProfileLikelihood.jl` expects a log-likelihood function with the parameter vector, `θ`, the data, and the integrator used for the model - see the documentation on [the integrator interface of `DifferentialEquations.jl`](https://docs.sciml.ai/DiffEqDocs/stable/basics/integrator/) for more details."
      ],
      "metadata": {}
    },
    {
      "outputs": [],
      "cell_type": "code",
      "source": [
        "function ll(θ, data, integrator)\n    (i0,β) = θ\n    integrator.p[1] = β\n    integrator.p[2] = 10.0\n    integrator.p[3] = 0.25\n    I = i0*1000.0\n    u₀=[1000.0-I,I,0.0,0.0]\n    reinit!(integrator, u₀)\n    solve!(integrator)\n    sol = integrator.sol\n    out = Array(sol)\n    C = out[4,:]\n    X = C[2:end] .- C[1:(end-1)]\n    nonpos = sum(X .<= 0)\n    if nonpos > 0\n        return Inf\n    end\n    sum(logpdf.(Poisson.(X),data))\nend;"
      ],
      "metadata": {},
      "execution_count": null
    },
    {
      "cell_type": "markdown",
      "source": [
        "We specify the lower and upper bounds of the parameter values, `lb` and `ub` respectively, and the initial parameter values, `θ₀`."
      ],
      "metadata": {}
    },
    {
      "outputs": [],
      "cell_type": "code",
      "source": [
        "lb = [0.001, 0.01] # Lower bound\nub = [0.1, 0.1] # Upper bound\nθ = [0.01, 0.05] # Exact values\nθ₀ = [0.002, 0.08]; # Initial conditions for optimization"
      ],
      "metadata": {},
      "execution_count": null
    },
    {
      "cell_type": "markdown",
      "source": [
        "The following shows how to obtain a single log-likelihood value for a set of parameter values using the integrator interface."
      ],
      "metadata": {}
    },
    {
      "outputs": [],
      "cell_type": "code",
      "source": [
        "integrator = init(prob_ode, Tsit5(); saveat = δt) # takes the same arguments as `solve`\nll(θ₀, data, integrator)"
      ],
      "metadata": {},
      "execution_count": null
    },
    {
      "cell_type": "markdown",
      "source": [
        "We use the log-likelihood function, `ll`, to define a `LikelihoodProblem`, along with initial parameter values, `θ₀`, the function describing the model, `sir_ode!`, the initial conditions, `u₀`, and the maximum time."
      ],
      "metadata": {}
    },
    {
      "outputs": [],
      "cell_type": "code",
      "source": [
        "syms = [:i₀, :β]\nprob = LikelihoodProblem(\n    ll, θ₀, sir_ode!, u₀, tmax; \n    syms=syms,\n    data=data,\n    ode_parameters=p, # temp values for p\n    ode_kwargs=(verbose=false, saveat=δt),\n    f_kwargs=(adtype=Optimization.AutoFiniteDiff(),),\n    prob_kwargs=(lb=lb, ub=ub),\n    ode_alg=Tsit5()\n);"
      ],
      "metadata": {},
      "execution_count": null
    },
    {
      "cell_type": "markdown",
      "source": [
        "## Grid search to identify the maximum likelihood value and the likelihood region\n\nWe first set the critical value of the likelihood in order to calculate the intervals."
      ],
      "metadata": {}
    },
    {
      "outputs": [],
      "cell_type": "code",
      "source": [
        "crit_val = 0.5*quantile(Chisq(2),0.95)"
      ],
      "metadata": {},
      "execution_count": null
    },
    {
      "cell_type": "markdown",
      "source": [
        "### Regular grid\n\nWe first use a coarse regular grid (with 10 points along each of the axes) to refine the bounds of the parameters."
      ],
      "metadata": {}
    },
    {
      "outputs": [],
      "cell_type": "code",
      "source": [
        "n_regular_grid = 50\nregular_grid = RegularGrid(lb, ub, n_regular_grid);"
      ],
      "metadata": {},
      "execution_count": null
    },
    {
      "outputs": [],
      "cell_type": "code",
      "source": [
        "gs, loglik_vals = grid_search(prob, regular_grid; save_vals=Val(true), parallel = Val(true))\ngs"
      ],
      "metadata": {},
      "execution_count": null
    },
    {
      "cell_type": "markdown",
      "source": [
        "This is going to give us a crude maximum likelihood estimate and region, but this can still be used to discard unlikely parameter values and keep ones that are more consistent with the data ('Not Ruled Out Yet' or NROY). Note that only a small number of samples are NROY."
      ],
      "metadata": {}
    },
    {
      "outputs": [],
      "cell_type": "code",
      "source": [
        "gs_max_lik, gs_max_idx = findmax(loglik_vals)\nnroy = loglik_vals .>= (gs_max_lik - crit_val)\nnroyp = [ProfileLikelihood.get_parameters(regular_grid,(i,j)) for i in 1:n_regular_grid for j in 1:n_regular_grid if nroy[i,j]==1]"
      ],
      "metadata": {},
      "execution_count": null
    },
    {
      "cell_type": "markdown",
      "source": [
        "### Latin hypercube sampling\n\nWe now refine the parameter bounds from our coarse grid search, and run the model using a Latin hypercube sample over a fine (irregular) grid."
      ],
      "metadata": {}
    },
    {
      "outputs": [],
      "cell_type": "code",
      "source": [
        "lb2 = [minimum([x for x in nroyp[i]]) for i in 1:2] .* 0.5\nub2 = [maximum([x for x in nroyp[i]]) for i in 1:2] .* 2;"
      ],
      "metadata": {},
      "execution_count": null
    },
    {
      "outputs": [],
      "cell_type": "code",
      "source": [
        "n_lhs = 10000\nparameter_vals = QuasiMonteCarlo.sample(n_lhs, lb2, ub2, LatinHypercubeSample());"
      ],
      "metadata": {},
      "execution_count": null
    },
    {
      "outputs": [],
      "cell_type": "code",
      "source": [
        "irregular_grid = IrregularGrid(lb, ub, parameter_vals);"
      ],
      "metadata": {},
      "execution_count": null
    },
    {
      "outputs": [],
      "cell_type": "code",
      "source": [
        "gs_ir, loglik_vals_ir = grid_search(prob, irregular_grid; save_vals=Val(true), parallel = Val(true))\ngs_ir"
      ],
      "metadata": {},
      "execution_count": null
    },
    {
      "cell_type": "markdown",
      "source": [
        "## ML\n\nWe can obtain a more precise maximum likelhood estimate of the parameters using one of the algorithms in `Optimization.jl`. Here, we use `NelderMead` from `Optim.jl`, imported with `using OptimizationOptimJL` at the beginning of the notebook, using an updated initial estimate from our grid search."
      ],
      "metadata": {}
    },
    {
      "outputs": [],
      "cell_type": "code",
      "source": [
        "prob = update_initial_estimate(prob, gs_ir)\nsol = mle(prob, Optim.LBFGS())\nθ̂ = get_mle(sol);"
      ],
      "metadata": {},
      "execution_count": null
    },
    {
      "cell_type": "markdown",
      "source": [
        "## Plotting ML and likelhood surface\n\nIn the below code, we plot out the likelihood surface, using the coarse grid to make computations faster."
      ],
      "metadata": {}
    },
    {
      "outputs": [],
      "cell_type": "code",
      "source": [
        "fig = Figure(fontsize=38)\ni₀_grid = get_range(regular_grid, 1)\nβ_grid = get_range(regular_grid, 2)\n# Corresponding code for the irregular grid is below\n# i₀_grid = [ProfileLikelihood.get_parameters(irregular_grid,i)[1] for i in 1:n_lhs]\n# β_grid = [ProfileLikelihood.get_parameters(irregular_grid,i)[2] for i in 1:n_lhs]\nax = Axis(fig[1, 1], xlabel=L\"i_0\", ylabel=L\"\\beta\")\nco = heatmap!(ax, i₀_grid, β_grid, loglik_vals, colormap=Reverse(:matter))\ncontour!(ax, i₀_grid, β_grid, loglik_vals, levels=40, color=:black, linewidth=1/4)\ncontour!(ax, i₀_grid, β_grid, loglik_vals, levels=[minimum(loglik_vals), maximum(loglik_vals)-crit_val], color=:red, linewidth=1 / 2)\nscatter!(ax, [θ[1]], [θ[2]], color=:blue, markersize=14)\nscatter!(ax, [θ̂[1]], [θ̂[2]], color=:red, markersize=14)\nclb = Colorbar(fig[1, 2], co, label=L\"\\ell(i_0, \\beta)\", vertical=true)\nfig"
      ],
      "metadata": {},
      "execution_count": null
    },
    {
      "cell_type": "markdown",
      "source": [
        "## Generating prediction intervals\n\nTo generate prediction intervals, we compute the predicted mean of the number of new cases across the Latin hypercube sample, and take the minimum and maximum levels for those simulations within `crit_val` of the maximum likelihood value."
      ],
      "metadata": {}
    },
    {
      "outputs": [],
      "cell_type": "code",
      "source": [
        "function prediction_function(θ, data)\n    (i0,β) = θ\n    tspan = data[\"tspan\"]\n    npts = data[\"npts\"]\n    t2 = LinRange(tspan[1]+1, tspan[2], npts)\n    t1 = LinRange(tspan[1], tspan[2]-1, npts)\n    I = i0*1000.0\n    prob = remake(prob_ode,u0=[1000.0-I,I,0.0,0.0],p=[β,10.0,0.25],tspan=tspan)\n    sol = solve(prob,Tsit5())\n    return sol(t2)[4,:] .- sol(t1)[4,:]\nend;"
      ],
      "metadata": {},
      "execution_count": null
    },
    {
      "cell_type": "markdown",
      "source": [
        "We will run the simulation over a fine grid of `npts = 1000` timepoints."
      ],
      "metadata": {}
    },
    {
      "outputs": [],
      "cell_type": "code",
      "source": [
        "npts = 1000\nt_pred = LinRange(tspan[1]+1, tspan[2], npts)\nd = Dict(\"tspan\" => tspan, \"npts\" => npts);"
      ],
      "metadata": {},
      "execution_count": null
    },
    {
      "cell_type": "markdown",
      "source": [
        "This generates the predictions for the true parameter values and for the maximum likelihood estimates."
      ],
      "metadata": {}
    },
    {
      "outputs": [],
      "cell_type": "code",
      "source": [
        "exact_soln = prediction_function(θ, d)\nmle_soln = prediction_function(θ̂, d);"
      ],
      "metadata": {},
      "execution_count": null
    },
    {
      "cell_type": "markdown",
      "source": [
        "This generates the predictions for all the samples that fall within the likelihood region."
      ],
      "metadata": {}
    },
    {
      "outputs": [],
      "cell_type": "code",
      "source": [
        "threshold = maximum(loglik_vals_ir)-crit_val\nθₗₕₛ = [ProfileLikelihood.get_parameters(irregular_grid,i) for i in 1:10000 if loglik_vals_ir[i] >= threshold]\npred_lhs = [prediction_function(theta,d) for theta in θₗₕₛ];"
      ],
      "metadata": {},
      "execution_count": null
    },
    {
      "cell_type": "markdown",
      "source": [
        "We can then take the minimum and maximum over time as an estimate of our combined interval."
      ],
      "metadata": {}
    },
    {
      "outputs": [],
      "cell_type": "code",
      "source": [
        "lhs_lci = vec(minimum(hcat(pred_lhs...),dims=2))\nlhs_uci = vec(maximum(hcat(pred_lhs...),dims=2));"
      ],
      "metadata": {},
      "execution_count": null
    },
    {
      "outputs": [],
      "cell_type": "code",
      "source": [
        "fig = Figure(fontsize=20, resolution=(600, 500))\nax = Axis(fig[1, 1], width=400, height=300)\nlines!(ax, t_pred, lhs_lci, color=:gray, linewidth=3)\nlines!(ax, t_pred, lhs_uci, color=:gray, linewidth=3)\nlines!(ax, t_pred, exact_soln, color=:red, label=\"True value\")\nlines!(ax, t_pred, mle_soln, color=:blue, linestyle=:dash, label=\"ML estimate\")\nband!(ax, t_pred, lhs_lci, lhs_uci, color=(:grey, 0.7), transparency=true, label=\"95% interval\")\naxislegend(ax)\nax.xlabel = \"Time\"\nax.ylabel = \"Number\"\nfig"
      ],
      "metadata": {},
      "execution_count": null
    }
  ],
  "nbformat_minor": 2,
  "metadata": {
    "language_info": {
      "file_extension": ".jl",
      "mimetype": "application/julia",
      "name": "julia",
      "version": "1.7.3"
    },
    "kernelspec": {
      "name": "julia-1.7",
      "display_name": "Julia 1.7.3",
      "language": "julia"
    }
  },
  "nbformat": 4
}
