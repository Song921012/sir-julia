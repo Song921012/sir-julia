{
  "cells": [
    {
      "cell_type": "markdown",
      "source": [
        "# A multigroup SIR ODE model\nSimon Frost (@sdwfrost), 2023-02-15\n\n## Introduction\n\nThe standard SIR model assumes that all individuals are identical; a more realistic approach is to consider multiple groups of individuals with different characteristics, such as different ages, contact rates, etc.. Here, we consider an SIR model with `K` groups, with proportionate mixing between the groups. See [Jacquez et al.](https://doi.org/10.1016/0025-5564(88)90031-4) for more details on different mixing patterns with simple parameterizations. We use [ModelingToolkit.jl](https://github.com/SciML/ModelingToolkit.jl) to compactly describe a multigroup model, demonstrating how to build and solve an ODE system, and to process the output.\n\n## Libraries"
      ],
      "metadata": {}
    },
    {
      "outputs": [],
      "cell_type": "code",
      "source": [
        "using ModelingToolkit\nusing OrdinaryDiffEq\nusing Plots;"
      ],
      "metadata": {},
      "execution_count": null
    },
    {
      "cell_type": "markdown",
      "source": [
        "## Transitions\n\nFor simplicity, we will set the number of groups, `K`, to 2 to illustrate the model, although most of the below code does not depend on a specific value of `K`."
      ],
      "metadata": {}
    },
    {
      "outputs": [],
      "cell_type": "code",
      "source": [
        "K = 2;"
      ],
      "metadata": {},
      "execution_count": null
    },
    {
      "cell_type": "markdown",
      "source": [
        "This is an ODE system, so we have a single independent variable and differential operator."
      ],
      "metadata": {}
    },
    {
      "outputs": [],
      "cell_type": "code",
      "source": [
        "@parameters t\nD = Differential(t);"
      ],
      "metadata": {},
      "execution_count": null
    },
    {
      "cell_type": "markdown",
      "source": [
        "In this extended SIR model, we assume that each group `i` has it's own contact rate, `c[i]`. The infection probability, `β`, and the recovery rate, `γ`, are assumed to be the same across groups, although it is straightforward to drop this assumption."
      ],
      "metadata": {}
    },
    {
      "outputs": [],
      "cell_type": "code",
      "source": [
        "@parameters t β c[1:K] γ;"
      ],
      "metadata": {},
      "execution_count": null
    },
    {
      "cell_type": "markdown",
      "source": [
        "Next, we create equations for `S`, `I`, and `R` for each of our `K` groups. To keep the notation simple, we employ a group-specific force of infection, `λ`."
      ],
      "metadata": {}
    },
    {
      "outputs": [],
      "cell_type": "code",
      "source": [
        "@variables (S(t))[1:K] (I(t))[1:K] (R(t))[1:K] (λ(t))[1:K]\nstate_eqs = [\n       [D(S[i]) ~ -λ[i]*S[i],\n        D(I[i]) ~ λ[i]*S[i]-γ*I[i],\n        D(R[i]) ~ γ*I[i]]\n            for i in 1:K]\n# Turn into a 1D vector\nstate_eqs = vcat(state_eqs...);"
      ],
      "metadata": {},
      "execution_count": null
    },
    {
      "cell_type": "markdown",
      "source": [
        "We will assume proportionate mixing between groups i.e. the group-specific contacts weighted by the group size. For this, we need to define the total size of each group, `N[i]`, the group-specific contact rates, `c[i]`, and the proportion of contacts between groups `i` and `j`, `p[i,j]`."
      ],
      "metadata": {}
    },
    {
      "outputs": [],
      "cell_type": "code",
      "source": [
        "@variables (N(t))[1:K] (p(t))[1:K,1:K]\nvariable_eqs = [\n               [N[i] ~ S[i]+I[i]+R[i] for i in 1:K]...,\n               [λ[i] ~ sum([β*c[i]*p[i,j]*I[j]/N[j] for j in 1:K]) for i in 1:K]...,\n             [p[i,j] ~ c[j]*N[j]/sum([c[k]*N[k] for k in 1:K]) for j in 1:K for i in 1:K]...\n               ];"
      ],
      "metadata": {},
      "execution_count": null
    },
    {
      "cell_type": "markdown",
      "source": [
        "We can now combine these equations to form an `ODESystem`."
      ],
      "metadata": {}
    },
    {
      "outputs": [],
      "cell_type": "code",
      "source": [
        "@named sys = ODESystem([state_eqs;variable_eqs])"
      ],
      "metadata": {},
      "execution_count": null
    },
    {
      "cell_type": "markdown",
      "source": [
        "This system is overspecified - we defined the intermediate variables `N`, `λ`, and `p` to make the models easier to write. We simplify the system as follows."
      ],
      "metadata": {}
    },
    {
      "outputs": [],
      "cell_type": "code",
      "source": [
        "simpsys = structural_simplify(sys)"
      ],
      "metadata": {},
      "execution_count": null
    },
    {
      "cell_type": "markdown",
      "source": [
        "This recovers the correct (3K) number of equations.\n\n## Times, initial conditions and parameters\n\nFor this example, we'll set the population sizes and composition to be identical across groups."
      ],
      "metadata": {}
    },
    {
      "outputs": [],
      "cell_type": "code",
      "source": [
        "u₀ = [[S[i] => 990.0/K for i in 1:K]...,\n      [I[i] => 10.0/K for i in 1:K]...,\n      [R[i] => 0.0 for i in 1:K]...];"
      ],
      "metadata": {},
      "execution_count": null
    },
    {
      "cell_type": "markdown",
      "source": [
        "Initially, we'll set all contact rates to be the same."
      ],
      "metadata": {}
    },
    {
      "outputs": [],
      "cell_type": "code",
      "source": [
        "p = [β=>0.05, [c[i]=>10.0 for i in 1:K]..., γ=>0.25];"
      ],
      "metadata": {},
      "execution_count": null
    },
    {
      "cell_type": "markdown",
      "source": [
        "Finally, we set the timespan for the simulation."
      ],
      "metadata": {}
    },
    {
      "outputs": [],
      "cell_type": "code",
      "source": [
        "δt = 0.1\ntmax = 40.0\ntspan = (0.0,tmax);"
      ],
      "metadata": {},
      "execution_count": null
    },
    {
      "cell_type": "markdown",
      "source": [
        "## Running the model\n\nWe solve the (simplified) problem as usual."
      ],
      "metadata": {}
    },
    {
      "outputs": [],
      "cell_type": "code",
      "source": [
        "prob = ODEProblem(simpsys, u₀, tspan, p)\nsol = solve(prob, Tsit5(), saveat=δt);"
      ],
      "metadata": {},
      "execution_count": null
    },
    {
      "cell_type": "markdown",
      "source": [
        "## Result processing\n\nThe above will generate a 3K × T matrix, where T is the number of timesteps (including the initial state). To recover the population totals of `S`, `I`, and `R`, we need to sum states across the rows of this matrix. The symbolic manipulations above necessitate the use of some extra code to match up the model symbols with the indices of this matrix. First, we extract the states of the system."
      ],
      "metadata": {}
    },
    {
      "outputs": [],
      "cell_type": "code",
      "source": [
        "all_states = states(simpsys)"
      ],
      "metadata": {},
      "execution_count": null
    },
    {
      "cell_type": "markdown",
      "source": [
        "Next, we identify which of these states correspond to susceptible, infected, and recovered individuals."
      ],
      "metadata": {}
    },
    {
      "outputs": [],
      "cell_type": "code",
      "source": [
        "indexof(sym,syms) = findfirst(isequal(sym),syms)\nS_indexes = [indexof(S[k],all_states) for k in 1:K]\nI_indexes = [indexof(I[k],all_states) for k in 1:K]\nR_indexes = [indexof(R[k],all_states) for k in 1:K];"
      ],
      "metadata": {},
      "execution_count": null
    },
    {
      "cell_type": "markdown",
      "source": [
        "The following code produces separate matrices for susceptible, infected, and recovered individuals from the solution."
      ],
      "metadata": {}
    },
    {
      "outputs": [],
      "cell_type": "code",
      "source": [
        "Smat = sol[S_indexes,:]\nImat = sol[I_indexes,:]\nRmat = sol[R_indexes,:];"
      ],
      "metadata": {},
      "execution_count": null
    },
    {
      "cell_type": "markdown",
      "source": [
        "Summing these matrices up at each timepoint gives the total numbers."
      ],
      "metadata": {}
    },
    {
      "outputs": [],
      "cell_type": "code",
      "source": [
        "Stotal = sum(Smat,dims=1)'\nItotal = sum(Imat,dims=1)'\nRtotal = sum(Rmat,dims=1)';"
      ],
      "metadata": {},
      "execution_count": null
    },
    {
      "cell_type": "markdown",
      "source": [
        "## Plotting"
      ],
      "metadata": {}
    },
    {
      "outputs": [],
      "cell_type": "code",
      "source": [
        "times = sol.t\nplot(times, Stotal, label=\"S\", xlabel=\"Time\", ylabel=\"Number\")\nplot!(times, Itotal, label=\"I\")\nplot!(times, Rtotal, label=\"R\")"
      ],
      "metadata": {},
      "execution_count": null
    },
    {
      "cell_type": "markdown",
      "source": [
        "## Different contact rates\n\nThe above recovers the standard well-mixed, homogenous SIR model. With a multigroup model, we can set different contact rates per group; this will lead to a different mixing matrix, `p[i,j]` as a consequence of the proportionate mixing assumption."
      ],
      "metadata": {}
    },
    {
      "outputs": [],
      "cell_type": "code",
      "source": [
        "p2 = [β=>0.05, c[1] => 20, c[2] => 5, γ=>0.25]\nprob2 = remake(prob, p=p2)\nsol2 = solve(prob2, Tsit5(), saveat=δt);"
      ],
      "metadata": {},
      "execution_count": null
    },
    {
      "outputs": [],
      "cell_type": "code",
      "source": [
        "plot(times, sol2(times, idxs=S_indexes)', labels=[\"S₁\" \"S₂\"], linecolor=:blue, linestyle=[:solid :dash])\nplot!(times, sol2(times, idxs=I_indexes)', labels=[\"I₁\" \"I₂\"], linecolor=:red, linestyle=[:solid :dash])\nplot!(times, sol2(times, idxs=R_indexes)', labels=[\"R₁\" \"R₂\"], linecolor=:green, linestyle=[:solid :dash])\nxlabel!(\"Time\")\nylabel!(\"Number\")"
      ],
      "metadata": {},
      "execution_count": null
    },
    {
      "cell_type": "markdown",
      "source": [
        "This demonstrates the more rapid dynamics in the high-contact group."
      ],
      "metadata": {}
    }
  ],
  "nbformat_minor": 2,
  "metadata": {
    "language_info": {
      "file_extension": ".jl",
      "mimetype": "application/julia",
      "name": "julia",
      "version": "1.7.3"
    },
    "kernelspec": {
      "name": "julia-1.7",
      "display_name": "Julia 1.7.3",
      "language": "julia"
    }
  },
  "nbformat": 4
}
