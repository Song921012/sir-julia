{
  "cells": [
    {
      "cell_type": "markdown",
      "source": [
        "# Inference of transmission network individual-level model (TN-ILM) parameters using Pathogen.jl\nSimon Frost (@sdwfrost), 2023-02-01\n\n## Introduction\n\n[Pathogen.jl](https://github.com/jangevaare/Pathogen.jl), described in [this paper](https://arxiv.org/abs/2002.05850), is a package to simulate transmission network individual-level models, in which individuals can have their own risk factors that affect their contact with others, their susceptibility, their infectivity on infection, their recovery rates, etc.. It includes methods for stochastic simulation and Bayesian inference of SEIR, SEI, SIR, and SI individual level models. This tutorial is based on that included in the Pathogen.jl package, available [here](https://github.com/jangevaare/Pathogen.jl/blob/master/examples/SIR%20Simulation/SIR%20TN-ILM%20Simulation%20and%20Inference.ipynb), but simplified to match the parameter values used in this repository as closely as possible, in order to generate comparable results. This tutorial focuses on inference; for computational purposes, we consider a smaller population (`N=100`) than in most of the other examples; this also makes visualization of the transmission network clearer. The random number seed was chosen so as to ensure than an epidemic did not fade out immediately due to the small number (1) of initial infected individuals.\n\n## Libraries"
      ],
      "metadata": {}
    },
    {
      "outputs": [],
      "cell_type": "code",
      "source": [
        "using Random\nusing Distributions\nusing Pathogen\nusing Plots\nusing Plots.PlotMeasures\nusing StatsPlots;"
      ],
      "metadata": {},
      "execution_count": null
    },
    {
      "cell_type": "markdown",
      "source": [
        "We set the random number seed for reproducibility."
      ],
      "metadata": {}
    },
    {
      "outputs": [],
      "cell_type": "code",
      "source": [
        "Random.seed!(1);"
      ],
      "metadata": {},
      "execution_count": null
    },
    {
      "cell_type": "markdown",
      "source": [
        "## Setting up and running the model\n\nThe setting up and running of the model is described in more detail in the [simulation example](https://github.com/epirecipes/sir-julia/blob/master/markdown/sim_pathogen/sim_pathogen.md)."
      ],
      "metadata": {}
    },
    {
      "outputs": [],
      "cell_type": "code",
      "source": [
        "N = 100\nI₀ = 1\nlocations = DataFrame(x = rand(Uniform(0, 10), N),\n                  y = rand(Uniform(0, 10), N))\n\n# Precalculate distances\ndists = [1.0 for i = 1:N, j = 1:N]\n# Set diagonal to zero\n[dists[i,i] = 0.0 for i in 1:N]\n\npop = Population(locations, dists)\n\nfunction _constant(params::Vector{Float64}, pop::Population, i::Int64)\n    return params[1]\nend\n\nfunction _one(params::Vector{Float64}, pop::Population, i::Int64)\n    return 1.0\nend\n\nfunction _zero(params::Vector{Float64}, pop::Population, i::Int64)\n    return 0.0\nend\n\nfunction _one(params::Vector{Float64}, pop::Population, i::Int64, k:: Int64)\n    return 1.0\nend\n\nrf = RiskFunctions{SIR}(_zero, # sparks function\n                        _one, # susceptibility function\n                        _one, # infectivity function: defines a distance\n                        _constant, # transmissability function\n                        _constant) # removal function\n\n# Parametrize risk functions for simulation\nrparams = RiskParameters{SIR}(Float64[], # sparks function parameter(s)\n                              Float64[], # susceptibility function parameter(s)\n                              Float64[], # infectivity function parameter(s)\n                              [0.5/N], # transmissibility function parameter(s) βc/N\n                              [0.25]) # removal function parameter(s) γ\n\n# Set starting states in population\n# Set first I₀ individuals as infectious, others as susceptible to start\nstarting_states = [fill(State_I, I₀); fill(State_S, N-I₀)]\n# Initialize simulation\nsim = Simulation(pop, starting_states, rf, rparams)\n# Simulate\nsimulate!(sim, tmax=40.0);"
      ],
      "metadata": {},
      "execution_count": null
    },
    {
      "cell_type": "markdown",
      "source": [
        "## Plotting"
      ],
      "metadata": {}
    },
    {
      "outputs": [],
      "cell_type": "code",
      "source": [
        "p1 = plot(sim.events, 0.0, 40.0, legendfont=font(6), xaxis=font(10), bottom_margin=30px)\n# Population/TransmissionNetwork plots\np2=plot(sim.transmission_network, sim.population, sim.events, 0.0, title=\"Time = 0\", titlefontsize = 8)\np3=plot(sim.transmission_network, sim.population, sim.events, 10.0, title=\"Time = 10\", titlefontsize = 8)\np4=plot(sim.transmission_network, sim.population, sim.events, 20.0, title=\"Time = 20\", titlefontsize = 8)\np5=plot(sim.transmission_network, sim.population, sim.events, 30.0, title=\"Time = 30\", titlefontsize = 8)\np6=plot(sim.transmission_network, sim.population, sim.events, 40.0, title=\"Time = 40\", titlefontsize = 8)\n# Combine\nl = @layout [a\n             grid(1,5)]\ncombinedplots1 = plot(p1, p2, p3, p4, p5, p6, layout=l)"
      ],
      "metadata": {},
      "execution_count": null
    },
    {
      "cell_type": "markdown",
      "source": [
        "## Inference\n\nWe first generate exact observations for infection and removal; the `observe` function from Pathogen.jl expects a `UnivariateDistribution` from Distributions.jl."
      ],
      "metadata": {}
    },
    {
      "outputs": [],
      "cell_type": "code",
      "source": [
        "obs = observe(sim, Dirac(0.0), Dirac(0.0), force=true);"
      ],
      "metadata": {},
      "execution_count": null
    },
    {
      "cell_type": "markdown",
      "source": [
        "Next, we specify some priors for the risk parameters of our various risk functions, using `UnivariateDistribution[]` for fixed parameters."
      ],
      "metadata": {}
    },
    {
      "outputs": [],
      "cell_type": "code",
      "source": [
        "rpriors = RiskPriors{SIR}(UnivariateDistribution[],\n                          UnivariateDistribution[],\n                          UnivariateDistribution[],\n                          [Uniform(0.001, 0.01)],\n                          [Uniform(0.1, 0.5)]);"
      ],
      "metadata": {},
      "execution_count": null
    },
    {
      "cell_type": "markdown",
      "source": [
        "We then  set some extents for event data augmentation"
      ],
      "metadata": {}
    },
    {
      "outputs": [],
      "cell_type": "code",
      "source": [
        "ee = EventExtents{SIR}(0.001, 0.001);"
      ],
      "metadata": {},
      "execution_count": null
    },
    {
      "cell_type": "markdown",
      "source": [
        "The Markov Chain Monte Carlo (MCMC) is initialized as follows. Multiple attempts are needed to get initial parameter values; larger numbers of attempts are needed for larger populations."
      ],
      "metadata": {}
    },
    {
      "outputs": [],
      "cell_type": "code",
      "source": [
        "mcmc = MCMC(obs, ee, pop, starting_states, rf, rpriors)\nstart!(mcmc, attempts=10000); # 1 chain, with 10k initialization attempts"
      ],
      "metadata": {},
      "execution_count": null
    },
    {
      "cell_type": "markdown",
      "source": [
        "Assuming that the above has successfully initialized the Markov chain, the MCMC can be run as follows. Here, we use 11000 iterations, including a 1000 sample burn-in period, which should take a few minutes to run."
      ],
      "metadata": {}
    },
    {
      "outputs": [],
      "cell_type": "code",
      "source": [
        "niter = 11000\nburnin = 1000\nthin = 20\niterate!(mcmc, niter, 1.0, condition_on_network=true, event_batches=5);"
      ],
      "metadata": {},
      "execution_count": null
    },
    {
      "cell_type": "markdown",
      "source": [
        "The `summary` function provides a table of the estimated parameters (the first is transmissibility, the second is recovery/removal)."
      ],
      "metadata": {}
    },
    {
      "outputs": [],
      "cell_type": "code",
      "source": [
        "summary(mcmc, burnin=burnin, thin=thin)"
      ],
      "metadata": {},
      "execution_count": null
    },
    {
      "cell_type": "markdown",
      "source": [
        "These parameter values can be extracted and visualized as follows."
      ],
      "metadata": {}
    },
    {
      "outputs": [],
      "cell_type": "code",
      "source": [
        "β = [mcmc.markov_chains[1].risk_parameters[i].transmissibility[1] for i in (burnin+1):niter]\nγ = [mcmc.markov_chains[1].risk_parameters[i].removal[1] for i in (burnin+1):niter];"
      ],
      "metadata": {},
      "execution_count": null
    },
    {
      "outputs": [],
      "cell_type": "code",
      "source": [
        "marginalkde(β, γ)"
      ],
      "metadata": {},
      "execution_count": null
    },
    {
      "cell_type": "markdown",
      "source": [
        "Note that the removal rate estimates are centered close to the true value, while the inferred transmissibility parameter is an underestimate of the true value (although this is only for a single realization).\n\nHere are the MCMC posterior plots, which show good mixing of the Markov chains."
      ],
      "metadata": {}
    },
    {
      "outputs": [],
      "cell_type": "code",
      "source": [
        "# MCMC trace plot\np1 = plot(1:thin:niter,\n  mcmc.markov_chains[1].risk_parameters, yscale=:log10, title=\"TN-ILM parameters\", xguidefontsize=8, yguidefontsize=8, xtickfontsize=7, ytickfontsize=7, titlefontsize=11, bottom_margin=30px)\n\n# State plots\np2 = plot(mcmc.markov_chains[1].events[niter], State_S,\n          linealpha=0.01, title=\"S\", xguidefontsize=8, yguidefontsize=8,\n          xtickfontsize=7, ytickfontsize=7, titlefontsize=11)\nfor i=(burnin+1):thin:niter\n  plot!(p2, mcmc.markov_chains[1].events[i], State_S, linealpha=0.01)\nend\nplot!(p2, sim.events, State_S, linecolor=:black, linewidth=1.5)\n\np3 = plot(mcmc.markov_chains[1].events[niter], State_I,\n          linealpha=0.01, title=\"I\", xguidefontsize=8, yguidefontsize=8, xtickfontsize=7, ytickfontsize=7, titlefontsize=11)\nfor i=(burnin+1):thin:niter\n  plot!(p3, mcmc.markov_chains[1].events[i], State_I, linealpha=0.01)\nend\nplot!(p3, sim.events, State_I, linecolor=:black, linewidth=1.5)\n\np4 = plot(mcmc.markov_chains[1].events[niter], State_R,\n          linealpha=0.01, title=\"R\", xguidefontsize=8, yguidefontsize=8, xtickfontsize=7, ytickfontsize=7, titlefontsize=11)\nfor i=(burnin+1):thin:niter\n  plot!(p4, mcmc.markov_chains[1].events[i], State_R, linealpha=0.01)\nend\nplot!(p4, sim.events, State_R, linecolor=:black, linewidth=1.5)\n# Combine\nl = @layout [a; [b c d]]\ncombinedplots2 = plot(p1, p2, p3, p4, layout=l)"
      ],
      "metadata": {},
      "execution_count": null
    },
    {
      "cell_type": "markdown",
      "source": [
        "Finally, we can plot out the inferred transmission network compared to the true network."
      ],
      "metadata": {}
    },
    {
      "outputs": [],
      "cell_type": "code",
      "source": [
        "p1 = plot(sim.transmission_network, sim.population, title=\"True Transmission\\nNetwork\", titlefontsize=11, framestyle=:box)\n\ntnp = TransmissionNetworkPosterior(mcmc, burnin=burnin, thin=thin)\np2 = plot(tnp, sim.population, title=\"Transmission Network\\nPosterior Distribution\", titlefontsize=11, framestyle=:box)\n\ncombinedplots3 = plot(p1, p2, layout=(1, 2))"
      ],
      "metadata": {},
      "execution_count": null
    }
  ],
  "nbformat_minor": 2,
  "metadata": {
    "language_info": {
      "file_extension": ".jl",
      "mimetype": "application/julia",
      "name": "julia",
      "version": "1.7.3"
    },
    "kernelspec": {
      "name": "julia-1.7",
      "display_name": "Julia 1.7.3",
      "language": "julia"
    }
  },
  "nbformat": 4
}
