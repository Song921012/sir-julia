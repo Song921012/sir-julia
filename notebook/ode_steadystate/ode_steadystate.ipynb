{
  "cells": [
    {
      "cell_type": "markdown",
      "source": [
        "# Steady state solution of an ordinary differential equation model\nSimon Frost (@sdwfrost), 2023-02-11\n\n## Introduction\n\nIn this notebook, we find the steady state of an SIR model with births and deaths using several different approaches.\n\n## Libraries"
      ],
      "metadata": {}
    },
    {
      "outputs": [],
      "cell_type": "code",
      "source": [
        "using ModelingToolkit\nusing OrdinaryDiffEq\nusing DifferentialEquations\nusing DiffEqCallbacks\nusing NonlinearSolve\nusing Random\nusing Distributions\nusing Plots\nusing LaTeXStrings\nusing DataFrames;"
      ],
      "metadata": {},
      "execution_count": null
    },
    {
      "cell_type": "markdown",
      "source": [
        "## Transitions\n\nThe model considered here is an extension of the standard SIR model to include an open population with births and deaths (the latter at per-capita rate `μ`). The variables `S` and `I` capture the proportion of individuals who are susceptible and infected, respectively, with the total population size fixed at 1 (and hence recovered individuals are present at proportion `1-S-I`)."
      ],
      "metadata": {}
    },
    {
      "outputs": [],
      "cell_type": "code",
      "source": [
        "@parameters t β γ μ\n@variables S(t) I(t)\nD = Differential(t)\neqs = [D(S) ~ μ - β*S*I - μ*S,\n       D(I) ~ β*S*I - (γ+μ)*I];"
      ],
      "metadata": {},
      "execution_count": null
    },
    {
      "cell_type": "markdown",
      "source": [
        "This has two steady states; an unstable (disease free) steady state at `S=1.0, I=0` and a stable (endemic) steady state.\n\n## Initial conditions and parameter values"
      ],
      "metadata": {}
    },
    {
      "outputs": [],
      "cell_type": "code",
      "source": [
        "u₀ = [S => 0.99, I => 0.01]\np = [β => 0.5, γ => 0.25, μ => 0.025];"
      ],
      "metadata": {},
      "execution_count": null
    },
    {
      "cell_type": "markdown",
      "source": [
        "## Analytical equilibrium\n\nThis model has analytical solutions for the steady state obtained by setting the derivatives to zero and solving for `S` and `I` (see [here](https://en.wikipedia.org/wiki/Compartmental_models_in_epidemiology)). Here, we use `substitute` from `SymbolicUtils.jl` to compute the endemic steady state, `(S₁, I₁)`."
      ],
      "metadata": {}
    },
    {
      "outputs": [],
      "cell_type": "code",
      "source": [
        "R₀ = β/(γ + μ)\nsubstitute(R₀, p)"
      ],
      "metadata": {},
      "execution_count": null
    },
    {
      "outputs": [],
      "cell_type": "code",
      "source": [
        "S₀ = 1/R₀\nS₁ = substitute(S₀, p)\nI₀ = (μ/β)*(R₀ - 1)\nI₁ = substitute(I₀, p)\nS₁, I₁"
      ],
      "metadata": {},
      "execution_count": null
    },
    {
      "cell_type": "markdown",
      "source": [
        "### Using ODEProblem and the TerminateSteadyState callback\n\nWe can run the ODE to (approximate) steady state by using a `TerminateSteadyState` callback from the `DiffEqCallbacks.jl` package."
      ],
      "metadata": {}
    },
    {
      "outputs": [],
      "cell_type": "code",
      "source": [
        "@named sys = ODESystem(eqs)\nodeprob = ODEProblem(sys, u₀, (0, 50000), p)\nodesol = solve(odeprob, RK4(); abstol = 1e-13, callback = TerminateSteadyState(1e-8, 1e-6));"
      ],
      "metadata": {},
      "execution_count": null
    },
    {
      "cell_type": "markdown",
      "source": [
        "The code below plots a time series and a phase plot of `S(t)` and `I(t)`."
      ],
      "metadata": {}
    },
    {
      "outputs": [],
      "cell_type": "code",
      "source": [
        "times = odesol.t[1]:0.1:odesol.t[end]\nodeout = Array(odesol(times))'\nl = @layout [a b]\np1 = plot(times,\n          odeout[:, 1],\n          xlabel=\"Time\",\n          ylabel=\"Number\",\n          label=\"S\")\nplot!(p1,\n      times,\n      odeout[:, 2],\n      label=\"I\")\np2 = plot(odeout[:,1],\n     odeout[:,2],\n     xlabel=L\"S\",\n     ylabel=L\"I\",\n     legend=false,\n     color=:black)\nplot(p1, p2, layout=l)"
      ],
      "metadata": {},
      "execution_count": null
    },
    {
      "cell_type": "markdown",
      "source": [
        "### Using SteadyStateProblem\n\nAnother way to implement the above is to define a  `SteadyStateProblem` and wrapping an ODE solver with `DynamicSS`."
      ],
      "metadata": {}
    },
    {
      "outputs": [],
      "cell_type": "code",
      "source": [
        "ssprob = SteadyStateProblem(sys, u₀, p)\nsssol = solve(ssprob, DynamicSS(RK4()); abstol=1e-13);"
      ],
      "metadata": {},
      "execution_count": null
    },
    {
      "cell_type": "markdown",
      "source": [
        "## Using NonlinearProblem\n\nAnother approach is to define a `NonlinearProblem` and solve using a nonlinear solver such as `NewtonRaphson`. A `NonlinearProblem` can be converted from a `SteadyStateProblem` or an `ODEProblem`."
      ],
      "metadata": {}
    },
    {
      "outputs": [],
      "cell_type": "code",
      "source": [
        "nlprob = NonlinearProblem(odeprob)\nnlsol = solve(nlprob, NewtonRaphson())"
      ],
      "metadata": {},
      "execution_count": null
    },
    {
      "cell_type": "markdown",
      "source": [
        "This approach fails to find the endemic equilibrium for the initial conditions `S₀=0.99, I₀=0.01`. This problem can be overcome by multiple runs with different initial conditions. Here, we generate random initial conditions by sampling from a `Dirichlet` distribution with dimension 3, and taking the first two numbers."
      ],
      "metadata": {}
    },
    {
      "outputs": [],
      "cell_type": "code",
      "source": [
        "Random.seed!(1234)\nninits = 4\nresults = [[nlprob.u0; nlsol]]\nfor i in 1:ninits\n    newu₀ = rand(Dirichlet(3,1))[1:2]\n    prob = remake(nlprob, u0=newu₀)\n    sol = solve(prob, NewtonRaphson())\n    push!(results, [newu₀; sol])\nend\ndf = DataFrame(mapreduce(permutedims, vcat, results), :auto)\nrename!(df, [:S₀, :I₀, :S₁, :I₁])\ndf"
      ],
      "metadata": {},
      "execution_count": null
    },
    {
      "cell_type": "markdown",
      "source": [
        "The random starts result in the endemic equilibrium being found."
      ],
      "metadata": {}
    }
  ],
  "nbformat_minor": 2,
  "metadata": {
    "language_info": {
      "file_extension": ".jl",
      "mimetype": "application/julia",
      "name": "julia",
      "version": "1.7.3"
    },
    "kernelspec": {
      "name": "julia-1.7",
      "display_name": "Julia 1.7.3",
      "language": "julia"
    }
  },
  "nbformat": 4
}
