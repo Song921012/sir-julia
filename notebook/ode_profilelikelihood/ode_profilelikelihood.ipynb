{
  "cells": [
    {
      "cell_type": "markdown",
      "source": [
        "# Ordinary differential equation model with profile likelihood using ProfileLikelihood.jl\nSimon Frost (@sdwfrost), 2022-12-22\n\n## Introduction\n\nThe classical ODE version of the SIR model is:\n\n- Deterministic\n- Continuous in time\n- Continuous in state\n\nIn this notebook, we try to infer the parameter values from a simulated dataset using [profile likelihood](https://en.wikipedia.org/wiki/Likelihood_function#Profile_likelihood) to capture uncertainty in parameter estimates, using [ProfileLikelihood.jl](https://github.com/DanielVandH/ProfileLikelihood.jl).\n\n## Libraries"
      ],
      "metadata": {}
    },
    {
      "outputs": [],
      "cell_type": "code",
      "source": [
        "using OrdinaryDiffEq\nusing ProfileLikelihood\nusing StatsFuns\nusing Random\nusing Distributions\nusing Optimization\nusing OptimizationOptimJL\nusing QuasiMonteCarlo\nusing CairoMakie\nusing LaTeXStrings\nusing DataFrames"
      ],
      "metadata": {},
      "execution_count": null
    },
    {
      "cell_type": "markdown",
      "source": [
        "## Transitions\n\nThe following function provides the derivatives of the model, which it changes in-place. A variable is included for the cumulative number of infections, $C$."
      ],
      "metadata": {}
    },
    {
      "outputs": [],
      "cell_type": "code",
      "source": [
        "function sir_ode!(du, u, p, t)\n    (S, I, R, C) = u\n    (β, c, γ) = p\n    N = S+I+R\n    infection = β*c*I/N*S\n    recovery = γ*I\n    @inbounds begin\n        du[1] = -infection\n        du[2] = infection - recovery\n        du[3] = recovery\n        du[4] = infection\n    end\n    nothing\nend;"
      ],
      "metadata": {},
      "execution_count": null
    },
    {
      "cell_type": "markdown",
      "source": [
        "## Time domain\n\nWe set the timespan for simulations, `tspan`, initial conditions, `u0`, and parameter values, `p` (which are unpacked above as `[β, c, γ]`)."
      ],
      "metadata": {}
    },
    {
      "outputs": [],
      "cell_type": "code",
      "source": [
        "δt = 1.0\ntmax = 40.0\ntspan = (0.0,tmax);"
      ],
      "metadata": {},
      "execution_count": null
    },
    {
      "cell_type": "markdown",
      "source": [
        "## Initial conditions"
      ],
      "metadata": {}
    },
    {
      "outputs": [],
      "cell_type": "code",
      "source": [
        "u₀ = [990.0, 10.0, 0.0, 0.0]; # S, I, R, C"
      ],
      "metadata": {},
      "execution_count": null
    },
    {
      "cell_type": "markdown",
      "source": [
        "## Parameter values"
      ],
      "metadata": {}
    },
    {
      "outputs": [],
      "cell_type": "code",
      "source": [
        "p = [0.05,10.0,0.25]; # β, c, γ"
      ],
      "metadata": {},
      "execution_count": null
    },
    {
      "cell_type": "markdown",
      "source": [
        "## Running the model"
      ],
      "metadata": {}
    },
    {
      "outputs": [],
      "cell_type": "code",
      "source": [
        "prob_ode = ODEProblem(sir_ode!, u₀, tspan, p)\nsol_ode = solve(prob_ode, Tsit5(), saveat=δt);"
      ],
      "metadata": {},
      "execution_count": null
    },
    {
      "cell_type": "markdown",
      "source": [
        "We convert the output to an `Array` for further processing."
      ],
      "metadata": {}
    },
    {
      "outputs": [],
      "cell_type": "code",
      "source": [
        "out = Array(sol_ode);"
      ],
      "metadata": {},
      "execution_count": null
    },
    {
      "cell_type": "markdown",
      "source": [
        "## Plotting the solution\n\nThe following code demonstrates how to plot the time series using [Makie.jl](https://github.com/MakieOrg/Makie.jl)."
      ],
      "metadata": {}
    },
    {
      "outputs": [],
      "cell_type": "code",
      "source": [
        "colors = [:blue, :red, :green, :purple]\nlegends = [\"S\", \"I\", \"R\", \"C\"]\nfig = Figure()\nax = Axis(fig[1, 1])\nfor i = 1:4\n    lines!(ax, sol_ode.t, out[i,:], label = legends[i], color = colors[i])\nend\naxislegend(ax)\nax.xlabel = \"Time\"\nax.ylabel = \"Number\"\nfig"
      ],
      "metadata": {},
      "execution_count": null
    },
    {
      "cell_type": "markdown",
      "source": [
        "## Generating data\n\nThe cumulative counts are extracted, and the new cases per day are calculated from the cumulative counts."
      ],
      "metadata": {}
    },
    {
      "outputs": [],
      "cell_type": "code",
      "source": [
        "C = out[4,:];\nX = C[2:end] .- C[1:(end-1)];"
      ],
      "metadata": {},
      "execution_count": null
    },
    {
      "cell_type": "markdown",
      "source": [
        "Although the ODE system is deterministic, we can add measurement error to the counts of new cases. Here, a Poisson distribution is used, although a negative binomial could also be used (which would introduce an additional parameter for the variance)."
      ],
      "metadata": {}
    },
    {
      "outputs": [],
      "cell_type": "code",
      "source": [
        "Random.seed!(1234);\ndata = rand.(Poisson.(X));"
      ],
      "metadata": {},
      "execution_count": null
    },
    {
      "cell_type": "markdown",
      "source": [
        "## Optimization\n\nProfileLikelihood.jl expects a log-likelihood function with the parameter vector, `θ`, the data, and the integrator used for the model - see the documentation on [the integrator interface of `DifferentialEquations.jl`](https://docs.sciml.ai/DiffEqDocs/stable/basics/integrator/) for more details."
      ],
      "metadata": {}
    },
    {
      "outputs": [],
      "cell_type": "code",
      "source": [
        "function ll(θ, data, integrator)\n    (i0,β) = θ\n    integrator.p[1] = β\n    integrator.p[2] = 10.0\n    integrator.p[3] = 0.25\n    I = i0*1000.0\n    u₀=[1000.0-I,I,0.0,0.0]\n    reinit!(integrator, u₀)\n    solve!(integrator)\n    sol = integrator.sol\n    out = Array(sol)\n    C = out[4,:]\n    X = C[2:end] .- C[1:(end-1)]\n    nonpos = sum(X .<= 0)\n    if nonpos > 0\n        return Inf\n    end\n    sum(logpdf.(Poisson.(X),data))\nend;"
      ],
      "metadata": {},
      "execution_count": null
    },
    {
      "cell_type": "markdown",
      "source": [
        "We specify the lower and upper bounds of the parameter values, `lb` and `ub` respectively, and the initial parameter values, `θ₀`."
      ],
      "metadata": {}
    },
    {
      "outputs": [],
      "cell_type": "code",
      "source": [
        "lb = [0.0, 0.0]\nub = [1.0, 1.0]\nθ = [0.01, 0.05]\nθ₀ = [0.01, 0.1];"
      ],
      "metadata": {},
      "execution_count": null
    },
    {
      "cell_type": "markdown",
      "source": [
        "The following shows how to obtain a single log-likelihood value for a set of parameter values using the integrator interface."
      ],
      "metadata": {}
    },
    {
      "outputs": [],
      "cell_type": "code",
      "source": [
        "integrator = init(prob_ode, Tsit5(); saveat = δt) # takes the same arguments as `solve`\nll(θ₀, data, integrator)"
      ],
      "metadata": {},
      "execution_count": null
    },
    {
      "cell_type": "markdown",
      "source": [
        "We use the log-likelihood function, `ll`, to define a `LikelihoodProblem`, along with initial parameter values, `θ₀`, the function describing the model, `sir_ode!`, the initial conditions, `u₀`, and the maximum time."
      ],
      "metadata": {}
    },
    {
      "outputs": [],
      "cell_type": "code",
      "source": [
        "syms = [:i₀, :β]\nprob = LikelihoodProblem(\n    ll, θ₀, sir_ode!, u₀, tmax; \n    syms=syms,\n    data=data,\n    ode_parameters=p, # temp values for p\n    ode_kwargs=(verbose=false, saveat=δt),\n    f_kwargs=(adtype=Optimization.AutoFiniteDiff(),),\n    prob_kwargs=(lb=lb, ub=ub),\n    ode_alg=Tsit5()\n);"
      ],
      "metadata": {},
      "execution_count": null
    },
    {
      "cell_type": "markdown",
      "source": [
        "Now that we have defined the `LikelihoodProblem`, we can obtain the maximum likelhood estimate of the parameters using one of the algorithms in `Optimization.jl`. Here, we use `NelderMead` from `Optim.jl`, imported with `using OptimizationOptimJL` at the beginning of the notebook."
      ],
      "metadata": {}
    },
    {
      "outputs": [],
      "cell_type": "code",
      "source": [
        "sol = mle(prob, NelderMead())\nθ̂ = get_mle(sol);"
      ],
      "metadata": {},
      "execution_count": null
    },
    {
      "cell_type": "markdown",
      "source": [
        "Similar code can be used to obtain the profile likelihood intervals."
      ],
      "metadata": {}
    },
    {
      "outputs": [],
      "cell_type": "code",
      "source": [
        "prof = profile(prob, sol; alg=NelderMead(), parallel=false)\nconfints = get_confidence_intervals(prof);"
      ],
      "metadata": {},
      "execution_count": null
    },
    {
      "outputs": [],
      "cell_type": "code",
      "source": [
        "fig = plot_profiles(prof; latex_names=[L\"i_0\", L\"\\beta\"])\nfig"
      ],
      "metadata": {},
      "execution_count": null
    },
    {
      "cell_type": "markdown",
      "source": [
        "The following shows the fitted parameter estimates and the 95% confidence intervals based on profile likelihood."
      ],
      "metadata": {}
    },
    {
      "outputs": [],
      "cell_type": "code",
      "source": [
        "ENV[\"COLUMNS\"]=80\ndf_res = DataFrame(\n    Parameters = [:i₀, :β], \n    CILower = [confints[i][1] for i in 1:2],\n    CIUpper = [confints[i][2] for i in 1:2],\n    FittedValues = θ̂,\n    TrueValues = [0.01,0.05],\n    NominalStartValues = θ₀\n)\ndf_res"
      ],
      "metadata": {},
      "execution_count": null
    },
    {
      "cell_type": "markdown",
      "source": [
        "## Generating prediction intervals\n\n`ProfileLikelihood.jl` also provides a function to generate prediction intervals based on the profile likelihood intervals for individual parameters, and to combine the parameter-wise intervals to create a single interval. This requires a function that takes a vector of parameters, `θ`, with a second argument that can be used to pass information such as the time span and the number of data points."
      ],
      "metadata": {}
    },
    {
      "outputs": [],
      "cell_type": "code",
      "source": [
        "function prediction_function(θ, data)\n    (i0,β) = θ\n    tspan = data[\"tspan\"]\n    npts = data[\"npts\"]\n    t2 = LinRange(tspan[1]+1, tspan[2], npts)\n    t1 = LinRange(tspan[1], tspan[2]-1, npts)\n    I = i0*1000.0\n    prob = remake(prob_ode,u0=[1000.0-I,I,0.0,0.0],p=[β,10.0,0.25],tspan=tspan)\n    sol = solve(prob,Tsit5())\n    return sol(t2)[4,:] .- sol(t1)[4,:]\nend;"
      ],
      "metadata": {},
      "execution_count": null
    },
    {
      "outputs": [],
      "cell_type": "code",
      "source": [
        "npts = 1000\nt_pred = LinRange(tspan[1]+1, tspan[2], npts)\nd = Dict(\"tspan\" => tspan, \"npts\" => npts);"
      ],
      "metadata": {},
      "execution_count": null
    },
    {
      "outputs": [],
      "cell_type": "code",
      "source": [
        "exact_soln = prediction_function([0.01,0.05], d)\nmle_soln = prediction_function(θ̂, d);"
      ],
      "metadata": {},
      "execution_count": null
    },
    {
      "outputs": [],
      "cell_type": "code",
      "source": [
        "parameter_wise, union_intervals, all_curves, param_range =\n    get_prediction_intervals(prediction_function,\n                             prof,\n                             d);"
      ],
      "metadata": {},
      "execution_count": null
    },
    {
      "cell_type": "markdown",
      "source": [
        "The following figure shows individual intervals and the combined interval."
      ],
      "metadata": {}
    },
    {
      "outputs": [],
      "cell_type": "code",
      "source": [
        "fig = Figure(fontsize=32, resolution=(1800, 900))\nalp = join('a':'b')\nlatex_names = [L\"i_0\", L\"\\beta\"]\nfor i in 1:2\n    ax = Axis(fig[1, i], title=L\"(%$(alp[i])): Profile-wise PI for %$(latex_names[i])\",\n        titlealign=:left, width=400, height=300)\n    band!(ax, t_pred, getindex.(parameter_wise[i], 1), getindex.(parameter_wise[1], 2), color=(:grey, 0.7), transparency=true)\n    lines!(ax, t_pred, exact_soln, color=:red)\n    lines!(ax, t_pred, mle_soln, color=:blue, linestyle=:dash)\n    lines!(ax, t_pred, getindex.(parameter_wise[i], 1), color=:black, linewidth=3)\n    lines!(ax, t_pred, getindex.(parameter_wise[i], 2), color=:black, linewidth=3)\nend\nax = Axis(fig[1,3], title=L\"(c):$ $ Union of all intervals\",\n    titlealign=:left, width=400, height=300)\nband!(ax, t_pred, getindex.(union_intervals, 1), getindex.(union_intervals, 2), color=(:grey, 0.7), transparency=true)\nlines!(ax, t_pred, getindex.(union_intervals, 1), color=:black, linewidth=3)\nlines!(ax, t_pred, getindex.(union_intervals, 2), color=:black, linewidth=3)\nlines!(ax, t_pred, exact_soln, color=:red)\nlines!(ax, t_pred, mle_soln, color=:blue, linestyle=:dash)\nfig"
      ],
      "metadata": {},
      "execution_count": null
    }
  ],
  "nbformat_minor": 2,
  "metadata": {
    "language_info": {
      "file_extension": ".jl",
      "mimetype": "application/julia",
      "name": "julia",
      "version": "1.7.3"
    },
    "kernelspec": {
      "name": "julia-1.7",
      "display_name": "Julia 1.7.3",
      "language": "julia"
    }
  },
  "nbformat": 4
}
