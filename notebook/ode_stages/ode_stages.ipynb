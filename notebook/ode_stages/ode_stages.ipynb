{
  "cells": [
    {
      "cell_type": "markdown",
      "source": [
        "# Ordinary differential equation model with an Erlang infectious period using the method of stages\n\n## Introduction\n\n## Libraries"
      ],
      "metadata": {}
    },
    {
      "outputs": [],
      "cell_type": "code",
      "source": [
        "using ModelingToolkit\nusing OrdinaryDiffEq\nusing Plots"
      ],
      "metadata": {},
      "execution_count": null
    },
    {
      "cell_type": "markdown",
      "source": [
        "## Transitions\n\nIn this example, we will use `K=4` stages for the infectious compartment. In `Symbolics.jl`/`ModelingToolkit.jl`, this is denoted as `(I(t))[1:K]`. Note the use of list comprehension to define equations for stages 2 through `K`, and the use of the splat operator, `...`, which results in a single array of equations."
      ],
      "metadata": {}
    },
    {
      "outputs": [],
      "cell_type": "code",
      "source": [
        "K = 4\n@parameters t β c δ\n@variables S(t) (I(t))[1:K] R(t)\nD = Differential(t)\nΣI = sum(I[1:K])\nN=S+ΣI+R\neqs = [D(S) ~ -β*c*ΣI/N*S,\n       D(I[1]) ~ β*c*ΣI/N*S-δ*I[1],\n       [D(I[i]) ~ δ*I[i-1] - δ*I[i] for i in 2:K]...,\n       D(R) ~ δ*I[K]];\n@named sys = ODESystem(eqs);"
      ],
      "metadata": {},
      "execution_count": null
    },
    {
      "cell_type": "markdown",
      "source": [
        "## Time domain"
      ],
      "metadata": {}
    },
    {
      "outputs": [],
      "cell_type": "code",
      "source": [
        "δt = 0.1\ntmax = 40.0\ntspan = (0.0,tmax);"
      ],
      "metadata": {},
      "execution_count": null
    },
    {
      "cell_type": "markdown",
      "source": [
        "## Initial conditions\n\nWe begin the simulation with all the initial infected individuals in the `I[1]` compartment."
      ],
      "metadata": {}
    },
    {
      "outputs": [],
      "cell_type": "code",
      "source": [
        "u0 = [S => 990.0,\n      I[1] => 10.0,\n      [I[i] => 0.0 for i in 2:K]...,\n      R => 0.0];"
      ],
      "metadata": {},
      "execution_count": null
    },
    {
      "cell_type": "markdown",
      "source": [
        "## Parameter values\n\nTo fix the mean duration of infectiousness, regardless of the number of stages, we divide the recovery rate, `γ`, by `K`."
      ],
      "metadata": {}
    },
    {
      "outputs": [],
      "cell_type": "code",
      "source": [
        "p = [β=>0.05,\n    c=>10.0,\n    δ=>0.25*K];"
      ],
      "metadata": {},
      "execution_count": null
    },
    {
      "cell_type": "markdown",
      "source": [
        "## Running the model"
      ],
      "metadata": {}
    },
    {
      "outputs": [],
      "cell_type": "code",
      "source": [
        "prob_ode = ODEProblem(sys,u0,tspan,p;jac=true)\nsol_ode = solve(prob_ode, Tsit5(), saveat=δt);"
      ],
      "metadata": {},
      "execution_count": null
    },
    {
      "cell_type": "markdown",
      "source": [
        "## Post-processing"
      ],
      "metadata": {}
    },
    {
      "outputs": [],
      "cell_type": "code",
      "source": [
        "out = Array(sol_ode)\nIsum = vec(sum(out[2:(K+1),:],dims=1));"
      ],
      "metadata": {},
      "execution_count": null
    },
    {
      "cell_type": "markdown",
      "source": [
        "## Plotting the model"
      ],
      "metadata": {}
    },
    {
      "outputs": [],
      "cell_type": "code",
      "source": [
        "plot(sol_ode.t, out[1,:], xlabel=\"Time\", ylabel=\"Number\", label=\"S\")\nplot!(sol_ode.t, Isum, label=\"I\")\nplot!(sol_ode.t, out[end,:], label=\"R\")"
      ],
      "metadata": {},
      "execution_count": null
    }
  ],
  "nbformat_minor": 2,
  "metadata": {
    "language_info": {
      "file_extension": ".jl",
      "mimetype": "application/julia",
      "name": "julia",
      "version": "1.7.3"
    },
    "kernelspec": {
      "name": "julia-1.7",
      "display_name": "Julia 1.7.3",
      "language": "julia"
    }
  },
  "nbformat": 4
}
