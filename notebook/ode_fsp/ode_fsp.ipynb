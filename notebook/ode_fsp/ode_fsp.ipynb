{
  "cells": [
    {
      "cell_type": "markdown",
      "source": [
        "# Finite state projection of a stochastic SIR model\nSimon Frost (@sdwfrost) 2023-02-15\n\n## Introduction\n\nThe [finite state projection](https://doi.org/10.1063/1.2145882) method is an approach which takes a stochastic model, and converts it to a set of linear ordinary differential equations known as the chemical master equation (CME), where the ODEs describe the probability of observing a specific site at a given time. Here, we use FiniteStateProjection.jl to turn a reaction network/system into the chemical master equation.\n\n## Libraries"
      ],
      "metadata": {}
    },
    {
      "outputs": [],
      "cell_type": "code",
      "source": [
        "using Catalyst\nusing ModelingToolkit\nusing FiniteStateProjection\nusing OrdinaryDiffEq\nusing JumpProcesses\nusing Random\nusing Plots\nusing StatsPlots"
      ],
      "metadata": {},
      "execution_count": null
    },
    {
      "cell_type": "markdown",
      "source": [
        "## Transitions\n\nFiniteStateProjection.jl accepts either a reaction network created with the `@reaction_network` macro, or a `ReactionSystem` created from a vector of `Reaction`s. The following definitions for `rn` and `rs` are equivalent, although we will use the `ReactionSystem` as it allows a wider range of models to be simulated (such as having state variables in the rates)."
      ],
      "metadata": {}
    },
    {
      "outputs": [],
      "cell_type": "code",
      "source": [
        "rn = @reaction_network SIR begin\n    β, S + I --> 2I\n    γ, I --> 0\nend β γ"
      ],
      "metadata": {},
      "execution_count": null
    },
    {
      "outputs": [],
      "cell_type": "code",
      "source": [
        "@parameters t β γ\n@variables S(t) I(t)\nrxs = [Reaction(β, [S,I], [I], [1,1], [2])\n       Reaction(γ, [I], [])]\n@named rs  = ReactionSystem(rxs, t, [S,I], [β,γ])"
      ],
      "metadata": {},
      "execution_count": null
    },
    {
      "cell_type": "markdown",
      "source": [
        "## Initial conditions, parameter values, and timespan for the ODE\n\nWe can turn the above systems into a system of ordinary differential equations, stochastic differential equations, or a jump process, as described in the [reaction network](https://github.com/epirecipes/sir-julia/tree/master/markdown/rn_mtk) example."
      ],
      "metadata": {}
    },
    {
      "outputs": [],
      "cell_type": "code",
      "source": [
        "p = [0.005, 0.25]\nu0 = [99, 1]\nδt = 1.0\ntspan = (0.0, 40.0)\nsolver = Tsit5()"
      ],
      "metadata": {},
      "execution_count": null
    },
    {
      "cell_type": "markdown",
      "source": [
        "Here is the solution of the `ReactionSystem`, when converted into a set of ODEs."
      ],
      "metadata": {}
    },
    {
      "outputs": [],
      "cell_type": "code",
      "source": [
        "prob_ode = ODEProblem(rs, u0, tspan, p)\nsol_ode = solve(prob_ode, solver)\nplot(sol_ode)"
      ],
      "metadata": {},
      "execution_count": null
    },
    {
      "cell_type": "markdown",
      "source": [
        "Similarly, the `ReactionSystem` can be turned into a jump process."
      ],
      "metadata": {}
    },
    {
      "outputs": [],
      "cell_type": "code",
      "source": [
        "Random.seed!(1)\njumpsys = convert(JumpSystem, rs)\ndprob = DiscreteProblem(jumpsys, u0, tspan, p)\njprob = JumpProblem(jumpsys, dprob, Direct())\njsol = solve(jprob, SSAStepper())\nplot(jsol)"
      ],
      "metadata": {},
      "execution_count": null
    },
    {
      "cell_type": "markdown",
      "source": [
        "Multiple runs of the jump process can be used to calculate the distribution of states at a given time."
      ],
      "metadata": {}
    },
    {
      "outputs": [],
      "cell_type": "code",
      "source": [
        "ensemble_jprob = EnsembleProblem(jprob)\nensemble_jsol = solve(ensemble_jprob,SSAStepper(),trajectories=10000);"
      ],
      "metadata": {},
      "execution_count": null
    },
    {
      "cell_type": "markdown",
      "source": [
        "This shows the distribution of susceptibles and infected at time `t=20`."
      ],
      "metadata": {}
    },
    {
      "outputs": [],
      "cell_type": "code",
      "source": [
        "jstates = [s(20) for s in ensemble_jsol]\nhistogram([s[1] for s in jstates], label=\"S\", normalize=:pdf, alpha=0.5)\nhistogram!([s[2] for s in jstates], label=\"I\", normalize=:pdf, alpha=0.5)"
      ],
      "metadata": {},
      "execution_count": null
    },
    {
      "cell_type": "markdown",
      "source": [
        "## Finite state projection\n\nRather than simulate a large number of trajectories to find the probability of observing a specific state at a given time, we can convert the reaction network/system to a set of ODEs. The initial conditions are the probability of observing a specific state `S=s, I=i` at time `t=0`."
      ],
      "metadata": {}
    },
    {
      "outputs": [],
      "cell_type": "code",
      "source": [
        "sys_fsp = FSPSystem(rn) # or FSPSystem(rs)\nu0f = zeros(101, 101) # 2D system as we have two states\nu0f[100,2] = 1.0 # this is equivalent to setting S(0)=99 and I(0)=1\nprob_fsp = convert(ODEProblem, sys_fsp, u0f, tspan, p)\nsol_fsp = solve(prob_fsp, solver, dense=false, saveat=δt);"
      ],
      "metadata": {},
      "execution_count": null
    },
    {
      "cell_type": "markdown",
      "source": [
        "## Plotting"
      ],
      "metadata": {}
    },
    {
      "outputs": [],
      "cell_type": "code",
      "source": [
        "bar(0:1:100,\n    sum(sol_fsp.u[21],dims=2),\n    xlabel=\"Number\",\n    ylabel=\"Probability\",\n    label=\"S\",\n    title=\"t=\"*string(sol_fsp.t[21]),\n    alpha=0.5)\nbar!(0:1:100,\n     sum(sol_fsp.u[21],dims=1)',\n     label=\"I\",\n     alpha=0.5)"
      ],
      "metadata": {},
      "execution_count": null
    },
    {
      "outputs": [],
      "cell_type": "code",
      "source": [
        "p1 = bar(0:1:100, sum(sol_fsp.u[21],dims=2), label=\"S\", title=\"t=\"*string(sol_fsp.t[21]), ylims=(0,1), alpha=0.5)\nbar!(p1, 0:1:100, sum(sol_fsp.u[21],dims=1)', label=\"I\",alpha=0.5)\np2 = bar(0:1:100, sum(sol_fsp.u[41],dims=2), label=\"S\", title=\"t=\"*string(sol_fsp.t[41]), ylims=(0,1), alpha=0.5)\nbar!(p2, 0:1:100, sum(sol_fsp.u[41],dims=1)', label=\"I\", alpha=0.5)\nl = @layout [a b]\nplot(p1, p2, layout=l)"
      ],
      "metadata": {},
      "execution_count": null
    }
  ],
  "nbformat_minor": 2,
  "metadata": {
    "language_info": {
      "file_extension": ".jl",
      "mimetype": "application/julia",
      "name": "julia",
      "version": "1.7.3"
    },
    "kernelspec": {
      "name": "julia-1.7",
      "display_name": "Julia 1.7.3",
      "language": "julia"
    }
  },
  "nbformat": 4
}
